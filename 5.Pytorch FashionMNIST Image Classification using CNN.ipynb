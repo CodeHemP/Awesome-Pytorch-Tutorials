{
 "cells": [
  {
   "cell_type": "markdown",
   "source": [
    "### Fashion MNIST using CNN with Pytorch\r\n",
    "\r\n",
    "### 1.Load Libraries"
   ],
   "metadata": {}
  },
  {
   "cell_type": "code",
   "execution_count": 30,
   "source": [
    "# torch loaded...!!!\r\n",
    "import torch\r\n",
    "import torch.nn.functional as F\r\n",
    "import torch.nn as nn\r\n",
    "import torch.optim as optim\r\n",
    "\r\n",
    "# torchvision loaded...!!!\r\n",
    "import torchvision\r\n",
    "import torchvision.transforms as transforms\r\n",
    "from torchsummary import summary\r\n",
    "\r\n",
    "# other libraries loaded...!!!\r\n",
    "import time\r\n",
    "import numpy as np\r\n",
    "import matplotlib.pyplot as plt"
   ],
   "outputs": [],
   "metadata": {}
  },
  {
   "cell_type": "markdown",
   "source": [
    "### 2.Defining some constant"
   ],
   "metadata": {}
  },
  {
   "cell_type": "code",
   "execution_count": 41,
   "source": [
    "# Constant defined\r\n",
    "NUM_EPOCHS = 10\r\n",
    "BATCH_SIZE = 4\r\n",
    "LEARNING_RATE = 0.001"
   ],
   "outputs": [],
   "metadata": {}
  },
  {
   "cell_type": "markdown",
   "source": [
    "### 3.Defining the transform"
   ],
   "metadata": {}
  },
  {
   "cell_type": "code",
   "execution_count": 3,
   "source": [
    "transform = transforms.Compose([\r\n",
    "    transforms.ToTensor(),\r\n",
    "    transforms.Normalize((0.5,),(0.5,))\r\n",
    "    ])"
   ],
   "outputs": [],
   "metadata": {}
  },
  {
   "cell_type": "markdown",
   "source": [
    "### 4.Download the Data and Load in to DataLoader"
   ],
   "metadata": {}
  },
  {
   "cell_type": "code",
   "execution_count": 8,
   "source": [
    "# Fashion-mnist dataset dataset : https://github.com/zalandoresearch/fashion-mnist\r\n",
    "trainset = torchvision.datasets.FashionMNIST(root='./data_new', train=True, download=True, transform=transform)\r\n",
    "testset = torchvision.datasets.FashionMNIST(root='./data_new', train=False, download=True, transform=transform)\r\n",
    "\r\n",
    "# Dataloader\r\n",
    "trainloader = torch.utils.data.DataLoader(trainset, batch_size=BATCH_SIZE, shuffle=True, num_workers=2)\r\n",
    "testloader = torch.utils.data.DataLoader(testset, batch_size=BATCH_SIZE, shuffle=False, num_workers=2)"
   ],
   "outputs": [
    {
     "output_type": "stream",
     "name": "stdout",
     "text": [
      "Downloading http://fashion-mnist.s3-website.eu-central-1.amazonaws.com/train-images-idx3-ubyte.gz\n",
      "Downloading http://fashion-mnist.s3-website.eu-central-1.amazonaws.com/train-images-idx3-ubyte.gz to ./data_new\\FashionMNIST\\raw\\train-images-idx3-ubyte.gz\n"
     ]
    },
    {
     "output_type": "stream",
     "name": "stderr",
     "text": [
      "26422272it [00:07, 3572238.27it/s]                              \n"
     ]
    },
    {
     "output_type": "stream",
     "name": "stdout",
     "text": [
      "Extracting ./data_new\\FashionMNIST\\raw\\train-images-idx3-ubyte.gz to ./data_new\\FashionMNIST\\raw\n",
      "\n",
      "Downloading http://fashion-mnist.s3-website.eu-central-1.amazonaws.com/train-labels-idx1-ubyte.gz\n",
      "Downloading http://fashion-mnist.s3-website.eu-central-1.amazonaws.com/train-labels-idx1-ubyte.gz to ./data_new\\FashionMNIST\\raw\\train-labels-idx1-ubyte.gz\n"
     ]
    },
    {
     "output_type": "stream",
     "name": "stderr",
     "text": [
      "29696it [00:00, 214656.21it/s]                          \n"
     ]
    },
    {
     "output_type": "stream",
     "name": "stdout",
     "text": [
      "Extracting ./data_new\\FashionMNIST\\raw\\train-labels-idx1-ubyte.gz to ./data_new\\FashionMNIST\\raw\n",
      "\n",
      "Downloading http://fashion-mnist.s3-website.eu-central-1.amazonaws.com/t10k-images-idx3-ubyte.gz\n",
      "Downloading http://fashion-mnist.s3-website.eu-central-1.amazonaws.com/t10k-images-idx3-ubyte.gz to ./data_new\\FashionMNIST\\raw\\t10k-images-idx3-ubyte.gz\n"
     ]
    },
    {
     "output_type": "stream",
     "name": "stderr",
     "text": [
      "4422656it [00:01, 2733907.83it/s]                             \n"
     ]
    },
    {
     "output_type": "stream",
     "name": "stdout",
     "text": [
      "Extracting ./data_new\\FashionMNIST\\raw\\t10k-images-idx3-ubyte.gz to ./data_new\\FashionMNIST\\raw\n",
      "\n",
      "Downloading http://fashion-mnist.s3-website.eu-central-1.amazonaws.com/t10k-labels-idx1-ubyte.gz\n",
      "Downloading http://fashion-mnist.s3-website.eu-central-1.amazonaws.com/t10k-labels-idx1-ubyte.gz to ./data_new\\FashionMNIST\\raw\\t10k-labels-idx1-ubyte.gz\n"
     ]
    },
    {
     "output_type": "stream",
     "name": "stderr",
     "text": [
      "6144it [00:00, 6166500.07it/s]          "
     ]
    },
    {
     "output_type": "stream",
     "name": "stdout",
     "text": [
      "Extracting ./data_new\\FashionMNIST\\raw\\t10k-labels-idx1-ubyte.gz to ./data_new\\FashionMNIST\\raw\n",
      "\n"
     ]
    },
    {
     "output_type": "stream",
     "name": "stderr",
     "text": [
      "\n",
      "C:\\Users\\SHIVA\\miniconda3\\envs\\pytorch19\\lib\\site-packages\\torchvision\\datasets\\mnist.py:498: UserWarning: The given NumPy array is not writeable, and PyTorch does not support non-writeable tensors. This means you can write to the underlying (supposedly non-writeable) NumPy array using the tensor. You may want to copy the array to protect its data or make it writeable before converting it to a tensor. This type of warning will be suppressed for the rest of this program. (Triggered internally at  ..\\torch\\csrc\\utils\\tensor_numpy.cpp:180.)\n",
      "  return torch.from_numpy(parsed.astype(m[2], copy=False)).view(*s)\n"
     ]
    }
   ],
   "metadata": {}
  },
  {
   "cell_type": "markdown",
   "source": [],
   "metadata": {}
  },
  {
   "cell_type": "markdown",
   "source": [
    "### 5.Visulization the images"
   ],
   "metadata": {}
  },
  {
   "cell_type": "markdown",
   "source": [
    "![](https://i.imgur.com/KdAFXTE.gif)"
   ],
   "metadata": {}
  },
  {
   "cell_type": "code",
   "execution_count": 9,
   "source": [
    "classes = ['T-shirt', 'Trouser', 'Pullover','Dress','Coat','Sandal','Shirt','Sneaker','Bag', 'AnkleBoot']"
   ],
   "outputs": [],
   "metadata": {}
  },
  {
   "cell_type": "code",
   "execution_count": 22,
   "source": [
    "for batch_1 in trainloader:\r\n",
    "    batch = batch_1\r\n",
    "    break\r\n",
    "\r\n",
    "print(f\"Image shape:{batch[0].shape}\") # Image pixels -> (batch, channel, height, width)\r\n",
    "print(f\"Label shape:{batch[1].shape}\") # Label -> (batch, 1)\r\n",
    "\r\n",
    "plt.figure(figsize=(12,10))\r\n",
    "for i in range(batch[0].shape[0]):\r\n",
    "    plt.subplot(1,4, i+1)\r\n",
    "    plt.title(classes[batch[1][i]])\r\n",
    "    plt.imshow(batch[0][i,0,:,:])\r\n",
    "    plt.axis('off')\r\n",
    "plt.show()"
   ],
   "outputs": [
    {
     "output_type": "stream",
     "name": "stdout",
     "text": [
      "Image shape:torch.Size([4, 1, 28, 28])\n",
      "Label shape:torch.Size([4])\n"
     ]
    },
    {
     "output_type": "display_data",
     "data": {
      "image/png": "[encoded data removed]",
      "text/plain": [
       "<Figure size 864x720 with 4 Axes>"
      ]
     },
     "metadata": {
      "needs_background": "light"
     }
    }
   ],
   "metadata": {}
  },
  {
   "cell_type": "markdown",
   "source": [
    "### 6. Build CNN Architecture"
   ],
   "metadata": {}
  },
  {
   "cell_type": "code",
   "execution_count": 36,
   "source": [
    "class LeNet(nn.Module):\r\n",
    "    def __init__(self):\r\n",
    "        super(LeNet, self).__init__()\r\n",
    "        self.conv1 = nn.Conv2d(in_channels=1, out_channels=6, \r\n",
    "                               kernel_size=5)\r\n",
    "        self.conv2 = nn.Conv2d(in_channels=6, out_channels=16, \r\n",
    "                               kernel_size=5)\r\n",
    "        self.fc1 = nn.Linear(in_features=256, out_features=120)\r\n",
    "        self.fc2 = nn.Linear(in_features=120, out_features=84)\r\n",
    "        self.fc3 = nn.Linear(in_features=84, out_features=10)\r\n",
    "        \r\n",
    "    def forward(self, x):\r\n",
    "        x = F.relu(self.conv1(x))\r\n",
    "        x = F.max_pool2d(x, kernel_size=2)\r\n",
    "        x = F.relu(self.conv2(x))\r\n",
    "        x = F.max_pool2d(x, kernel_size=2)\r\n",
    "        x = x.view(x.size(0), -1)\r\n",
    "        x = F.relu(self.fc1(x))\r\n",
    "        x = F.relu(self.fc2(x))\r\n",
    "        x = self.fc3(x)\r\n",
    "        return x\r\n",
    "net = LeNet()\r\n",
    "print(net)"
   ],
   "outputs": [
    {
     "output_type": "stream",
     "name": "stdout",
     "text": [
      "LeNet(\n",
      "  (conv1): Conv2d(1, 6, kernel_size=(5, 5), stride=(1, 1))\n",
      "  (conv2): Conv2d(6, 16, kernel_size=(5, 5), stride=(1, 1))\n",
      "  (fc1): Linear(in_features=256, out_features=120, bias=True)\n",
      "  (fc2): Linear(in_features=120, out_features=84, bias=True)\n",
      "  (fc3): Linear(in_features=84, out_features=10, bias=True)\n",
      ")\n"
     ]
    }
   ],
   "metadata": {}
  },
  {
   "cell_type": "markdown",
   "source": [
    "### 7.Display Model"
   ],
   "metadata": {}
  },
  {
   "cell_type": "code",
   "execution_count": 37,
   "source": [
    "device = torch.device(\"cuda:0\" if torch.cuda.is_available() else \"cpu\")\r\n",
    "print(str(summary(net.to(device), (1, 28, 28), depth=1, device=device)))"
   ],
   "outputs": [
    {
     "output_type": "stream",
     "name": "stdout",
     "text": [
      "==========================================================================================\n",
      "Layer (type:depth-idx)                   Output Shape              Param #\n",
      "==========================================================================================\n",
      "├─Conv2d: 1-1                            [-1, 6, 24, 24]           156\n",
      "├─Conv2d: 1-2                            [-1, 16, 8, 8]            2,416\n",
      "├─Linear: 1-3                            [-1, 120]                 30,840\n",
      "├─Linear: 1-4                            [-1, 84]                  10,164\n",
      "├─Linear: 1-5                            [-1, 10]                  850\n",
      "==========================================================================================\n",
      "Total params: 44,426\n",
      "Trainable params: 44,426\n",
      "Non-trainable params: 0\n",
      "Total mult-adds (M): 0.28\n",
      "==========================================================================================\n",
      "Input size (MB): 0.00\n",
      "Forward/backward pass size (MB): 0.04\n",
      "Params size (MB): 0.17\n",
      "Estimated Total Size (MB): 0.21\n",
      "==========================================================================================\n",
      "==========================================================================================\n",
      "Layer (type:depth-idx)                   Output Shape              Param #\n",
      "==========================================================================================\n",
      "├─Conv2d: 1-1                            [-1, 6, 24, 24]           156\n",
      "├─Conv2d: 1-2                            [-1, 16, 8, 8]            2,416\n",
      "├─Linear: 1-3                            [-1, 120]                 30,840\n",
      "├─Linear: 1-4                            [-1, 84]                  10,164\n",
      "├─Linear: 1-5                            [-1, 10]                  850\n",
      "==========================================================================================\n",
      "Total params: 44,426\n",
      "Trainable params: 44,426\n",
      "Non-trainable params: 0\n",
      "Total mult-adds (M): 0.28\n",
      "==========================================================================================\n",
      "Input size (MB): 0.00\n",
      "Forward/backward pass size (MB): 0.04\n",
      "Params size (MB): 0.17\n",
      "Estimated Total Size (MB): 0.21\n",
      "==========================================================================================\n"
     ]
    }
   ],
   "metadata": {}
  },
  {
   "cell_type": "markdown",
   "source": [
    "### 8.Loss Function and Optimizer"
   ],
   "metadata": {}
  },
  {
   "cell_type": "code",
   "execution_count": 38,
   "source": [
    "# Loss Function\r\n",
    "loss_fn = nn.CrossEntropyLoss()\r\n",
    "\r\n",
    "# Optimizer\r\n",
    "optimizer = optim.SGD(net.parameters(), lr=LEARNING_RATE, momentum=0.9)"
   ],
   "outputs": [],
   "metadata": {}
  },
  {
   "cell_type": "markdown",
   "source": [
    "### 9.Training"
   ],
   "metadata": {}
  },
  {
   "cell_type": "code",
   "execution_count": 40,
   "source": [
    "# function to calculate accuracy\r\n",
    "def calc_acc(loader):\r\n",
    "    correct = 0\r\n",
    "    total = 0\r\n",
    "    for data in loader:\r\n",
    "        inputs, labels = data[0].to(device), data[1].to(device)\r\n",
    "        outputs = net(inputs)\r\n",
    "        _, predicted = torch.max(outputs.data, 1)\r\n",
    "        total += labels.size(0)\r\n",
    "        correct += (predicted == labels).sum().item()\r\n",
    "    return ((100 * correct)/ total)\r\n"
   ],
   "outputs": [],
   "metadata": {}
  },
  {
   "cell_type": "code",
   "execution_count": 42,
   "source": [
    "def training():\r\n",
    "    epoch_loss = []\r\n",
    "    train_acc = []\r\n",
    "    test_acc = []\r\n",
    "    # 1. Number of epoches defined\r\n",
    "    for epoch in range(NUM_EPOCHS):\r\n",
    "        running_loss = 0.0\r\n",
    "        # 2. Iterate over data from trainloader\r\n",
    "        for i, data in enumerate(trainloader, 0):\r\n",
    "            # 3. Get inputs and labels from data\r\n",
    "            inputs, labels = data[0].to(device), data[1].to(device)\r\n",
    "            \r\n",
    "            # 4. Zero the gradient\r\n",
    "            optimizer.zero_grad()\r\n",
    "            \r\n",
    "            # 5. Forward pass\r\n",
    "            outputs = net(inputs)\r\n",
    "            \r\n",
    "            # 6. forward pass: compute loss\r\n",
    "            loss = loss_fn(outputs, labels)\r\n",
    "            \r\n",
    "            # 7. backward pass: compute gradient\r\n",
    "            loss.backward()\r\n",
    "            \r\n",
    "            # 8. update weights\r\n",
    "            optimizer.step()\r\n",
    "            \r\n",
    "            # 9. statistics\r\n",
    "            running_loss += loss.item()\r\n",
    "            \r\n",
    "        epoch_loss.append(running_loss)\r\n",
    "        train_acc.append(calc_acc(trainloader))\r\n",
    "        test_acc.append(calc_acc(testloader))\r\n",
    "        print('Epoch: %d of %d, Train Acc: %0.3f, Test Acc: %0.3f, Loss: %0.3f'\r\n",
    "              % (epoch+1, NUM_EPOCHS, train_acc[epoch], test_acc[epoch], running_loss/15000))\r\n",
    "        \r\n",
    "    return epoch_loss, train_acc, test_acc\r\n",
    "            \r\n",
    "    "
   ],
   "outputs": [],
   "metadata": {}
  },
  {
   "cell_type": "code",
   "execution_count": 44,
   "source": [
    "start = time.time()\r\n",
    "epoch_loss, train_acc, test_acc = training()\r\n",
    "end = time.time()\r\n",
    "\r\n",
    "print(\"%0.2f Minutes\" %((end-start)/60))"
   ],
   "outputs": [
    {
     "output_type": "stream",
     "name": "stdout",
     "text": [
      "Epoch: 1 of 10, Train Acc: 85.565, Test Acc: 84.210, Loss: 0.448\n",
      "Epoch: 2 of 10, Train Acc: 87.103, Test Acc: 85.790, Loss: 0.356\n",
      "Epoch: 3 of 10, Train Acc: 88.820, Test Acc: 87.430, Loss: 0.319\n",
      "Epoch: 4 of 10, Train Acc: 89.725, Test Acc: 88.050, Loss: 0.296\n",
      "Epoch: 5 of 10, Train Acc: 90.102, Test Acc: 87.970, Loss: 0.279\n",
      "Epoch: 6 of 10, Train Acc: 91.237, Test Acc: 89.110, Loss: 0.264\n",
      "Epoch: 7 of 10, Train Acc: 90.547, Test Acc: 88.400, Loss: 0.250\n",
      "Epoch: 8 of 10, Train Acc: 91.503, Test Acc: 88.840, Loss: 0.241\n",
      "Epoch: 9 of 10, Train Acc: 91.218, Test Acc: 88.730, Loss: 0.231\n",
      "Epoch: 10 of 10, Train Acc: 91.853, Test Acc: 88.790, Loss: 0.222\n",
      "14.76 Minutes\n"
     ]
    }
   ],
   "metadata": {}
  },
  {
   "cell_type": "markdown",
   "source": [
    "The loss is around 0.222 by the end of 10 epochs. Surely, it is not state of the art result, but it is not bad for such a simple network also. The training accuracy is above 91.853 % and the test accuracy is around 88.790 %. A bigger network will surely help in getting better results."
   ],
   "metadata": {}
  },
  {
   "cell_type": "markdown",
   "source": [
    "### 10.Plot the Loss and Accuracy"
   ],
   "metadata": {}
  },
  {
   "cell_type": "code",
   "execution_count": 58,
   "source": [
    "plt.figure(figsize=(20,6))\r\n",
    "plt.subplot(1,3,1)\r\n",
    "plt.plot(epoch_loss)\r\n",
    "plt.title(\"Loss\")\r\n",
    "plt.xlabel('Epoch')\r\n",
    "plt.ylabel('Loss')\r\n",
    "\r\n",
    "plt.subplot(1,3,2)\r\n",
    "plt.plot(train_acc)\r\n",
    "plt.title(\"Train Accuracy\")\r\n",
    "plt.xlabel('Epoch')\r\n",
    "plt.ylabel('Training Accuracy')\r\n",
    "\r\n",
    "plt.subplot(1,3,3)\r\n",
    "plt.plot(test_acc)\r\n",
    "plt.title(\"Testing Accuracy\")\r\n",
    "plt.xlabel('Epoch')\r\n",
    "plt.ylabel('Test Accuracy')\r\n",
    "plt.show()"
   ],
   "outputs": [
    {
     "output_type": "display_data",
     "data": {
      "image/png": "[encoded data removed]",
      "text/plain": [
       "<Figure size 1440x432 with 3 Axes>"
      ]
     },
     "metadata": {
      "needs_background": "light"
     }
    }
   ],
   "metadata": {}
  }
 ],
 "metadata": {
  "orig_nbformat": 4,
  "language_info": {
   "name": "python",
   "version": "3.8.0",
   "mimetype": "text/x-python",
   "codemirror_mode": {
    "name": "ipython",
    "version": 3
   },
   "pygments_lexer": "ipython3",
   "nbconvert_exporter": "python",
   "file_extension": ".py"
  },
  "kernelspec": {
   "name": "python3",
   "display_name": "Python 3.8.0 64-bit ('pytorch19': conda)"
  },
  "interpreter": {
   "hash": "884a8f81666a19c0851426c83cd6eaa7b212468ad852fb3caa21591c98d4369f"
  }
 },
 "nbformat": 4,
 "nbformat_minor": 2
}