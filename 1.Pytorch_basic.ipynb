{
 "cells": [
  {
   "cell_type": "markdown",
   "source": [
    "### Torch with CPU Device"
   ],
   "metadata": {}
  },
  {
   "cell_type": "code",
   "execution_count": 1,
   "source": [
    "import torch"
   ],
   "outputs": [],
   "metadata": {}
  },
  {
   "cell_type": "code",
   "execution_count": 2,
   "source": [
    "x = torch.tensor([12,5])\r\n",
    "print(x)"
   ],
   "outputs": [
    {
     "output_type": "stream",
     "name": "stdout",
     "text": [
      "tensor([12,  5])\n"
     ]
    }
   ],
   "metadata": {}
  },
  {
   "cell_type": "code",
   "execution_count": 3,
   "source": [
    "# Dimenstion of tensor\r\n",
    "print(\"Dimension of Tensor x:\",x.size())"
   ],
   "outputs": [
    {
     "output_type": "stream",
     "name": "stdout",
     "text": [
      "Dimension of Tensor x: torch.Size([2])\n"
     ]
    }
   ],
   "metadata": {}
  },
  {
   "cell_type": "code",
   "execution_count": 4,
   "source": [
    "# Generate the tensor of all zeros1\r\n",
    "x = torch.zeros(3,3)\r\n",
    "print(\"3x3 Zeros Tensor:\\n\",x)"
   ],
   "outputs": [
    {
     "output_type": "stream",
     "name": "stdout",
     "text": [
      "3x3 Zeros Tensor:\n",
      " tensor([[0., 0., 0.],\n",
      "        [0., 0., 0.],\n",
      "        [0., 0., 0.]])\n"
     ]
    }
   ],
   "metadata": {}
  },
  {
   "cell_type": "code",
   "execution_count": 5,
   "source": [
    "# Generate the tensor of all ones\r\n",
    "x = torch.ones(3,3)\r\n",
    "print(\"3x3 Ones Tensor:\\n\", x)"
   ],
   "outputs": [
    {
     "output_type": "stream",
     "name": "stdout",
     "text": [
      "3x3 Ones Tensor:\n",
      " tensor([[1., 1., 1.],\n",
      "        [1., 1., 1.],\n",
      "        [1., 1., 1.]])\n"
     ]
    }
   ],
   "metadata": {}
  },
  {
   "cell_type": "code",
   "execution_count": 9,
   "source": [
    "# Generate the tensor of all random values\r\n",
    "x = torch.rand(3,3)\r\n",
    "print(\"3x3 Random Tensor:\\n\", x)\r\n",
    "print(\"Size of the Tensor:\", x.size())"
   ],
   "outputs": [
    {
     "output_type": "stream",
     "name": "stdout",
     "text": [
      "3x3 Random Tensor:\n",
      " tensor([[0.3886, 0.7397, 0.0500],\n",
      "        [0.2022, 0.9109, 0.2022],\n",
      "        [0.4736, 0.5833, 0.9891]])\n",
      "Size of the Tensor: torch.Size([3, 3])\n"
     ]
    }
   ],
   "metadata": {}
  },
  {
   "cell_type": "code",
   "execution_count": 14,
   "source": [
    "# addition without dtype\r\n",
    "x = torch.ones(3,3, dtype=torch.double)\r\n",
    "y = torch.tensor([[2,1,2], \r\n",
    "                [1,2,3], \r\n",
    "                [2,3,1]], dtype=torch.double)\r\n",
    "print(x+y)"
   ],
   "outputs": [
    {
     "output_type": "stream",
     "name": "stdout",
     "text": [
      "tensor([[3., 2., 3.],\n",
      "        [2., 3., 4.],\n",
      "        [3., 4., 2.]], dtype=torch.float64)\n"
     ]
    }
   ],
   "metadata": {}
  },
  {
   "cell_type": "code",
   "execution_count": 16,
   "source": [
    "print(\"Sum of X + y:\\n\", torch.add(x,y))"
   ],
   "outputs": [
    {
     "output_type": "stream",
     "name": "stdout",
     "text": [
      "Sum of X + y:\n",
      " tensor([[3., 2., 3.],\n",
      "        [2., 3., 4.],\n",
      "        [3., 4., 2.]], dtype=torch.float64)\n"
     ]
    }
   ],
   "metadata": {}
  },
  {
   "cell_type": "code",
   "execution_count": 19,
   "source": [
    "# Generate the empty tensor\r\n",
    "res = torch.empty(3,3, dtype=torch.double)\r\n",
    "print(\"Empty Tensor:\\n\", res)"
   ],
   "outputs": [
    {
     "output_type": "stream",
     "name": "stdout",
     "text": [
      "Empty Tensor:\n",
      " tensor([[1.2461e-306, 1.3796e-306, 9.3460e-307],\n",
      "        [1.2906e-306, 1.7802e-306, 1.1126e-306],\n",
      "        [8.9010e-307, 9.3461e-307, 3.9179e-317]], dtype=torch.float64)\n"
     ]
    }
   ],
   "metadata": {}
  },
  {
   "cell_type": "code",
   "execution_count": 20,
   "source": [
    "print(\"Result Res:\\n\", torch.add(x,y, out=res))"
   ],
   "outputs": [
    {
     "output_type": "stream",
     "name": "stdout",
     "text": [
      "Result Res:\n",
      " tensor([[3., 2., 3.],\n",
      "        [2., 3., 4.],\n",
      "        [3., 4., 2.]], dtype=torch.float64)\n"
     ]
    }
   ],
   "metadata": {}
  },
  {
   "cell_type": "code",
   "execution_count": 21,
   "source": [
    "# Resizing the tensor\r\n",
    "x = torch.ones(3,3)\r\n",
    "print(x)"
   ],
   "outputs": [
    {
     "output_type": "stream",
     "name": "stdout",
     "text": [
      "tensor([[1., 1., 1.],\n",
      "        [1., 1., 1.],\n",
      "        [1., 1., 1.]])\n"
     ]
    }
   ],
   "metadata": {}
  },
  {
   "cell_type": "code",
   "execution_count": 22,
   "source": [
    "y = x.view(9)\r\n",
    "print(y)"
   ],
   "outputs": [
    {
     "output_type": "stream",
     "name": "stdout",
     "text": [
      "tensor([1., 1., 1., 1., 1., 1., 1., 1., 1.])\n"
     ]
    }
   ],
   "metadata": {}
  },
  {
   "cell_type": "code",
   "execution_count": 23,
   "source": [
    "z = x.view(-1)\r\n",
    "print(z)"
   ],
   "outputs": [
    {
     "output_type": "stream",
     "name": "stdout",
     "text": [
      "tensor([1., 1., 1., 1., 1., 1., 1., 1., 1.])\n"
     ]
    }
   ],
   "metadata": {}
  },
  {
   "cell_type": "markdown",
   "source": [
    "### Torch with GPU Device"
   ],
   "metadata": {}
  },
  {
   "cell_type": "code",
   "execution_count": 25,
   "source": [
    "# Define the gpu\r\n",
    "device = torch.device('cuda')"
   ],
   "outputs": [],
   "metadata": {}
  },
  {
   "cell_type": "code",
   "execution_count": 26,
   "source": [
    "# Define the ones tensor\r\n",
    "x = torch.ones(3,3, device=device)\r\n",
    "print(\"3x3 Ones Tensor with GPU:\\n\", x)"
   ],
   "outputs": [
    {
     "output_type": "stream",
     "name": "stdout",
     "text": [
      "3x3 Ones Tensor with GPU:\n",
      " tensor([[1., 1., 1.],\n",
      "        [1., 1., 1.],\n",
      "        [1., 1., 1.]], device='cuda:0')\n"
     ]
    }
   ],
   "metadata": {}
  },
  {
   "cell_type": "code",
   "execution_count": 29,
   "source": [
    "# Define the ones tensor with float type\r\n",
    "y = torch.ones(3,3, dtype=torch.float)\r\n",
    "y = y.to(device)\r\n",
    "print(\"3x3 Ones Tensor with GPU:\\n\", y)"
   ],
   "outputs": [
    {
     "output_type": "stream",
     "name": "stdout",
     "text": [
      "3x3 Ones Tensor with GPU:\n",
      " tensor([[1., 1., 1.],\n",
      "        [1., 1., 1.],\n",
      "        [1., 1., 1.]], device='cuda:0')\n"
     ]
    }
   ],
   "metadata": {}
  },
  {
   "cell_type": "code",
   "execution_count": 30,
   "source": [
    "print(x+y)"
   ],
   "outputs": [
    {
     "output_type": "stream",
     "name": "stdout",
     "text": [
      "tensor([[2., 2., 2.],\n",
      "        [2., 2., 2.],\n",
      "        [2., 2., 2.]], device='cuda:0')\n"
     ]
    }
   ],
   "metadata": {}
  },
  {
   "cell_type": "code",
   "execution_count": 32,
   "source": [
    "print(\"Run on CPU:\\n:\",x.to('cpu'))\r\n",
    "print(\"Run on CPU:\\n:\",y.to('cpu'))"
   ],
   "outputs": [
    {
     "output_type": "stream",
     "name": "stdout",
     "text": [
      "Run on CPU:\n",
      ": tensor([[1., 1., 1.],\n",
      "        [1., 1., 1.],\n",
      "        [1., 1., 1.]])\n",
      "Run on CPU:\n",
      ": tensor([[1., 1., 1.],\n",
      "        [1., 1., 1.],\n",
      "        [1., 1., 1.]])\n"
     ]
    }
   ],
   "metadata": {}
  }
 ],
 "metadata": {
  "orig_nbformat": 4,
  "language_info": {
   "name": "python",
   "version": "3.8.0",
   "mimetype": "text/x-python",
   "codemirror_mode": {
    "name": "ipython",
    "version": 3
   },
   "pygments_lexer": "ipython3",
   "nbconvert_exporter": "python",
   "file_extension": ".py"
  },
  "kernelspec": {
   "name": "python3",
   "display_name": "Python 3.8.0 64-bit ('pytorch19': conda)"
  },
  "interpreter": {
   "hash": "884a8f81666a19c0851426c83cd6eaa7b212468ad852fb3caa21591c98d4369f"
  }
 },
 "nbformat": 4,
 "nbformat_minor": 2
}