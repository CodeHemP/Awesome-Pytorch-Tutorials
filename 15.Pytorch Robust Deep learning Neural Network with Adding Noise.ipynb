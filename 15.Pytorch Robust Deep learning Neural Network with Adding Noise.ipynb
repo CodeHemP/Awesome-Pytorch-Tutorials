{
 "cells": [
  {
   "cell_type": "markdown",
   "source": [
    "**Adding Noise for Robust Deep Neural Network Models**\r\n",
    "---\r\n",
    "* In this notebook, We will explore how to add noise in the image.\r\n",
    "* Train a model with noise based images.\r\n",
    "* Noise Types: Guassian, Salt and Papper and Speckle Noise\r\n",
    "* **Dataset** : CIFAR10"
   ],
   "metadata": {}
  },
  {
   "cell_type": "markdown",
   "source": [
    "**1.Load Modules**\r\n",
    "---"
   ],
   "metadata": {}
  },
  {
   "cell_type": "code",
   "execution_count": 1,
   "source": [
    "# torch loaded..!!!\r\n",
    "import torch\r\n",
    "import torch.nn as nn\r\n",
    "import torch.nn.functional as F\r\n",
    "import torch.optim as optim\r\n",
    "torch.manual_seed(42)\r\n",
    "\r\n",
    "# torchvision loaded..!!!\r\n",
    "import torchvision\r\n",
    "from torchvision import datasets, transforms\r\n",
    "import torchvision.models as models\r\n",
    "from torchsummary import summary\r\n",
    "\r\n",
    "# other module loaded..!!!\r\n",
    "import numpy as np\r\n",
    "import matplotlib.pyplot as plt\r\n",
    "import time\r\n",
    "import os\r\n",
    "plt.style.use('ggplot')"
   ],
   "outputs": [],
   "metadata": {}
  },
  {
   "cell_type": "markdown",
   "source": [
    "Going over all the important imports:\r\n",
    "\r\n",
    "* `torch`: as we will be implementing everything using the PyTorch deep learning library, so we import torch first.\r\n",
    "* `torchvision`: this module will help us download the CIFAR10 dataset, pre-trained PyTorch models, and also define the transforms that we will apply to the images.\r\n",
    "* `torch.nn`: we will get access to all the neural network layers through torch.nn.\r\n",
    "* `torch.optim`: this will help us define the optimizer of our choice.\r\n",
    "* `argparse`: for defining our argument parsers.\r\n",
    "* `matplotlib`: for saving the plots after training and validation."
   ],
   "metadata": {}
  },
  {
   "cell_type": "markdown",
   "source": [
    "**2.Define the Constants**\r\n",
    "---"
   ],
   "metadata": {}
  },
  {
   "cell_type": "code",
   "execution_count": 42,
   "source": [
    "EPOCHS = 10\r\n",
    "TRAIN_NOISE = True\r\n",
    "TEST_NOISE = False\r\n",
    "BATCH_SIZE = 32\r\n",
    "NUM_CLASSES = 10\r\n",
    "pretrained=True\r\n",
    "requires_grad=True"
   ],
   "outputs": [],
   "metadata": {}
  },
  {
   "cell_type": "markdown",
   "source": [
    "**3.Defining Transform and Helper Function**\r\n",
    "---"
   ],
   "metadata": {}
  },
  {
   "cell_type": "code",
   "execution_count": 21,
   "source": [
    "transform = transforms.Compose([transforms.ToTensor(),transforms.Normalize((0.5, 0.5, 0.5), (0.5, 0.5, 0.5))])"
   ],
   "outputs": [],
   "metadata": {}
  },
  {
   "cell_type": "code",
   "execution_count": 22,
   "source": [
    "device = torch.device(\"cuda:0\" if torch.cuda.is_available() else \"cpu\")"
   ],
   "outputs": [],
   "metadata": {}
  },
  {
   "cell_type": "markdown",
   "source": [
    "**4.Preparing Data**\r\n",
    "---"
   ],
   "metadata": {}
  },
  {
   "cell_type": "code",
   "execution_count": 23,
   "source": [
    "# Data Downloading\r\n",
    "trainset = datasets.CIFAR10(root='./data_cifar10/', train=True, download=True, transform=transform)\r\n",
    "testset = datasets.CIFAR10(root='./data_cifar10', train=False, download=True, transform=transform)\r\n",
    "\r\n",
    "# Data Loader\r\n",
    "trainLoader = torch.utils.data.DataLoader(trainset, batch_size=BATCH_SIZE, shuffle=True)\r\n",
    "testLoader = torch.utils.data.DataLoader(testset, batch_size=BATCH_SIZE, shuffle=False)"
   ],
   "outputs": [
    {
     "output_type": "stream",
     "name": "stdout",
     "text": [
      "Files already downloaded and verified\n",
      "Files already downloaded and verified\n"
     ]
    }
   ],
   "metadata": {}
  },
  {
   "cell_type": "markdown",
   "source": [
    "**5.Prepare the Neural Network**\r\n",
    "---"
   ],
   "metadata": {}
  },
  {
   "cell_type": "code",
   "execution_count": 43,
   "source": [
    "def model():\r\n",
    "    model = models.resnet18(progress=True, pretrained=pretrained)\r\n",
    "    # freeze hidden layers\r\n",
    "    if requires_grad == False:\r\n",
    "        for param in model.parameters():\r\n",
    "            param.requires_grad = False\r\n",
    "    # train the hidden layers\r\n",
    "    elif requires_grad == True:\r\n",
    "        for param in model.parameters():\r\n",
    "            param.requires_grad = True\r\n",
    "    # make the classification layers learnable\r\n",
    "    model.fc = nn.Linear(512, NUM_CLASSES)\r\n",
    "    \r\n",
    "    model = model.to(device)\r\n",
    "    \r\n",
    "    return model\r\n",
    "model = model()"
   ],
   "outputs": [],
   "metadata": {}
  },
  {
   "cell_type": "code",
   "execution_count": 52,
   "source": [
    "print(summary(model, (3, 32, 32)))"
   ],
   "outputs": [
    {
     "output_type": "stream",
     "name": "stdout",
     "text": [
      "==========================================================================================\n",
      "Layer (type:depth-idx)                   Output Shape              Param #\n",
      "==========================================================================================\n",
      "├─Conv2d: 1-1                            [-1, 64, 16, 16]          9,408\n",
      "├─BatchNorm2d: 1-2                       [-1, 64, 16, 16]          128\n",
      "├─ReLU: 1-3                              [-1, 64, 16, 16]          --\n",
      "├─MaxPool2d: 1-4                         [-1, 64, 8, 8]            --\n",
      "├─Sequential: 1-5                        [-1, 64, 8, 8]            --\n",
      "|    └─BasicBlock: 2-1                   [-1, 64, 8, 8]            --\n",
      "|    |    └─Conv2d: 3-1                  [-1, 64, 8, 8]            36,864\n",
      "|    |    └─BatchNorm2d: 3-2             [-1, 64, 8, 8]            128\n",
      "|    |    └─ReLU: 3-3                    [-1, 64, 8, 8]            --\n",
      "|    |    └─Conv2d: 3-4                  [-1, 64, 8, 8]            36,864\n",
      "|    |    └─BatchNorm2d: 3-5             [-1, 64, 8, 8]            128\n",
      "|    |    └─ReLU: 3-6                    [-1, 64, 8, 8]            --\n",
      "|    └─BasicBlock: 2-2                   [-1, 64, 8, 8]            --\n",
      "|    |    └─Conv2d: 3-7                  [-1, 64, 8, 8]            36,864\n",
      "|    |    └─BatchNorm2d: 3-8             [-1, 64, 8, 8]            128\n",
      "|    |    └─ReLU: 3-9                    [-1, 64, 8, 8]            --\n",
      "|    |    └─Conv2d: 3-10                 [-1, 64, 8, 8]            36,864\n",
      "|    |    └─BatchNorm2d: 3-11            [-1, 64, 8, 8]            128\n",
      "|    |    └─ReLU: 3-12                   [-1, 64, 8, 8]            --\n",
      "├─Sequential: 1-6                        [-1, 128, 4, 4]           --\n",
      "|    └─BasicBlock: 2-3                   [-1, 128, 4, 4]           --\n",
      "|    |    └─Conv2d: 3-13                 [-1, 128, 4, 4]           73,728\n",
      "|    |    └─BatchNorm2d: 3-14            [-1, 128, 4, 4]           256\n",
      "|    |    └─ReLU: 3-15                   [-1, 128, 4, 4]           --\n",
      "|    |    └─Conv2d: 3-16                 [-1, 128, 4, 4]           147,456\n",
      "|    |    └─BatchNorm2d: 3-17            [-1, 128, 4, 4]           256\n",
      "|    |    └─Sequential: 3-18             [-1, 128, 4, 4]           8,448\n",
      "|    |    └─ReLU: 3-19                   [-1, 128, 4, 4]           --\n",
      "|    └─BasicBlock: 2-4                   [-1, 128, 4, 4]           --\n",
      "|    |    └─Conv2d: 3-20                 [-1, 128, 4, 4]           147,456\n",
      "|    |    └─BatchNorm2d: 3-21            [-1, 128, 4, 4]           256\n",
      "|    |    └─ReLU: 3-22                   [-1, 128, 4, 4]           --\n",
      "|    |    └─Conv2d: 3-23                 [-1, 128, 4, 4]           147,456\n",
      "|    |    └─BatchNorm2d: 3-24            [-1, 128, 4, 4]           256\n",
      "|    |    └─ReLU: 3-25                   [-1, 128, 4, 4]           --\n",
      "├─Sequential: 1-7                        [-1, 256, 2, 2]           --\n",
      "|    └─BasicBlock: 2-5                   [-1, 256, 2, 2]           --\n",
      "|    |    └─Conv2d: 3-26                 [-1, 256, 2, 2]           294,912\n",
      "|    |    └─BatchNorm2d: 3-27            [-1, 256, 2, 2]           512\n",
      "|    |    └─ReLU: 3-28                   [-1, 256, 2, 2]           --\n",
      "|    |    └─Conv2d: 3-29                 [-1, 256, 2, 2]           589,824\n",
      "|    |    └─BatchNorm2d: 3-30            [-1, 256, 2, 2]           512\n",
      "|    |    └─Sequential: 3-31             [-1, 256, 2, 2]           33,280\n",
      "|    |    └─ReLU: 3-32                   [-1, 256, 2, 2]           --\n",
      "|    └─BasicBlock: 2-6                   [-1, 256, 2, 2]           --\n",
      "|    |    └─Conv2d: 3-33                 [-1, 256, 2, 2]           589,824\n",
      "|    |    └─BatchNorm2d: 3-34            [-1, 256, 2, 2]           512\n",
      "|    |    └─ReLU: 3-35                   [-1, 256, 2, 2]           --\n",
      "|    |    └─Conv2d: 3-36                 [-1, 256, 2, 2]           589,824\n",
      "|    |    └─BatchNorm2d: 3-37            [-1, 256, 2, 2]           512\n",
      "|    |    └─ReLU: 3-38                   [-1, 256, 2, 2]           --\n",
      "├─Sequential: 1-8                        [-1, 512, 1, 1]           --\n",
      "|    └─BasicBlock: 2-7                   [-1, 512, 1, 1]           --\n",
      "|    |    └─Conv2d: 3-39                 [-1, 512, 1, 1]           1,179,648\n",
      "|    |    └─BatchNorm2d: 3-40            [-1, 512, 1, 1]           1,024\n",
      "|    |    └─ReLU: 3-41                   [-1, 512, 1, 1]           --\n",
      "|    |    └─Conv2d: 3-42                 [-1, 512, 1, 1]           2,359,296\n",
      "|    |    └─BatchNorm2d: 3-43            [-1, 512, 1, 1]           1,024\n",
      "|    |    └─Sequential: 3-44             [-1, 512, 1, 1]           132,096\n",
      "|    |    └─ReLU: 3-45                   [-1, 512, 1, 1]           --\n",
      "|    └─BasicBlock: 2-8                   [-1, 512, 1, 1]           --\n",
      "|    |    └─Conv2d: 3-46                 [-1, 512, 1, 1]           2,359,296\n",
      "|    |    └─BatchNorm2d: 3-47            [-1, 512, 1, 1]           1,024\n",
      "|    |    └─ReLU: 3-48                   [-1, 512, 1, 1]           --\n",
      "|    |    └─Conv2d: 3-49                 [-1, 512, 1, 1]           2,359,296\n",
      "|    |    └─BatchNorm2d: 3-50            [-1, 512, 1, 1]           1,024\n",
      "|    |    └─ReLU: 3-51                   [-1, 512, 1, 1]           --\n",
      "├─AdaptiveAvgPool2d: 1-9                 [-1, 512, 1, 1]           --\n",
      "├─Linear: 1-10                           [-1, 10]                  5,130\n",
      "==========================================================================================\n",
      "Total params: 11,181,642\n",
      "Trainable params: 11,181,642\n",
      "Non-trainable params: 0\n",
      "Total mult-adds (M): 59.52\n",
      "==========================================================================================\n",
      "Input size (MB): 0.01\n",
      "Forward/backward pass size (MB): 0.77\n",
      "Params size (MB): 42.65\n",
      "Estimated Total Size (MB): 43.44\n",
      "==========================================================================================\n",
      "==========================================================================================\n",
      "Layer (type:depth-idx)                   Output Shape              Param #\n",
      "==========================================================================================\n",
      "├─Conv2d: 1-1                            [-1, 64, 16, 16]          9,408\n",
      "├─BatchNorm2d: 1-2                       [-1, 64, 16, 16]          128\n",
      "├─ReLU: 1-3                              [-1, 64, 16, 16]          --\n",
      "├─MaxPool2d: 1-4                         [-1, 64, 8, 8]            --\n",
      "├─Sequential: 1-5                        [-1, 64, 8, 8]            --\n",
      "|    └─BasicBlock: 2-1                   [-1, 64, 8, 8]            --\n",
      "|    |    └─Conv2d: 3-1                  [-1, 64, 8, 8]            36,864\n",
      "|    |    └─BatchNorm2d: 3-2             [-1, 64, 8, 8]            128\n",
      "|    |    └─ReLU: 3-3                    [-1, 64, 8, 8]            --\n",
      "|    |    └─Conv2d: 3-4                  [-1, 64, 8, 8]            36,864\n",
      "|    |    └─BatchNorm2d: 3-5             [-1, 64, 8, 8]            128\n",
      "|    |    └─ReLU: 3-6                    [-1, 64, 8, 8]            --\n",
      "|    └─BasicBlock: 2-2                   [-1, 64, 8, 8]            --\n",
      "|    |    └─Conv2d: 3-7                  [-1, 64, 8, 8]            36,864\n",
      "|    |    └─BatchNorm2d: 3-8             [-1, 64, 8, 8]            128\n",
      "|    |    └─ReLU: 3-9                    [-1, 64, 8, 8]            --\n",
      "|    |    └─Conv2d: 3-10                 [-1, 64, 8, 8]            36,864\n",
      "|    |    └─BatchNorm2d: 3-11            [-1, 64, 8, 8]            128\n",
      "|    |    └─ReLU: 3-12                   [-1, 64, 8, 8]            --\n",
      "├─Sequential: 1-6                        [-1, 128, 4, 4]           --\n",
      "|    └─BasicBlock: 2-3                   [-1, 128, 4, 4]           --\n",
      "|    |    └─Conv2d: 3-13                 [-1, 128, 4, 4]           73,728\n",
      "|    |    └─BatchNorm2d: 3-14            [-1, 128, 4, 4]           256\n",
      "|    |    └─ReLU: 3-15                   [-1, 128, 4, 4]           --\n",
      "|    |    └─Conv2d: 3-16                 [-1, 128, 4, 4]           147,456\n",
      "|    |    └─BatchNorm2d: 3-17            [-1, 128, 4, 4]           256\n",
      "|    |    └─Sequential: 3-18             [-1, 128, 4, 4]           8,448\n",
      "|    |    └─ReLU: 3-19                   [-1, 128, 4, 4]           --\n",
      "|    └─BasicBlock: 2-4                   [-1, 128, 4, 4]           --\n",
      "|    |    └─Conv2d: 3-20                 [-1, 128, 4, 4]           147,456\n",
      "|    |    └─BatchNorm2d: 3-21            [-1, 128, 4, 4]           256\n",
      "|    |    └─ReLU: 3-22                   [-1, 128, 4, 4]           --\n",
      "|    |    └─Conv2d: 3-23                 [-1, 128, 4, 4]           147,456\n",
      "|    |    └─BatchNorm2d: 3-24            [-1, 128, 4, 4]           256\n",
      "|    |    └─ReLU: 3-25                   [-1, 128, 4, 4]           --\n",
      "├─Sequential: 1-7                        [-1, 256, 2, 2]           --\n",
      "|    └─BasicBlock: 2-5                   [-1, 256, 2, 2]           --\n",
      "|    |    └─Conv2d: 3-26                 [-1, 256, 2, 2]           294,912\n",
      "|    |    └─BatchNorm2d: 3-27            [-1, 256, 2, 2]           512\n",
      "|    |    └─ReLU: 3-28                   [-1, 256, 2, 2]           --\n",
      "|    |    └─Conv2d: 3-29                 [-1, 256, 2, 2]           589,824\n",
      "|    |    └─BatchNorm2d: 3-30            [-1, 256, 2, 2]           512\n",
      "|    |    └─Sequential: 3-31             [-1, 256, 2, 2]           33,280\n",
      "|    |    └─ReLU: 3-32                   [-1, 256, 2, 2]           --\n",
      "|    └─BasicBlock: 2-6                   [-1, 256, 2, 2]           --\n",
      "|    |    └─Conv2d: 3-33                 [-1, 256, 2, 2]           589,824\n",
      "|    |    └─BatchNorm2d: 3-34            [-1, 256, 2, 2]           512\n",
      "|    |    └─ReLU: 3-35                   [-1, 256, 2, 2]           --\n",
      "|    |    └─Conv2d: 3-36                 [-1, 256, 2, 2]           589,824\n",
      "|    |    └─BatchNorm2d: 3-37            [-1, 256, 2, 2]           512\n",
      "|    |    └─ReLU: 3-38                   [-1, 256, 2, 2]           --\n",
      "├─Sequential: 1-8                        [-1, 512, 1, 1]           --\n",
      "|    └─BasicBlock: 2-7                   [-1, 512, 1, 1]           --\n",
      "|    |    └─Conv2d: 3-39                 [-1, 512, 1, 1]           1,179,648\n",
      "|    |    └─BatchNorm2d: 3-40            [-1, 512, 1, 1]           1,024\n",
      "|    |    └─ReLU: 3-41                   [-1, 512, 1, 1]           --\n",
      "|    |    └─Conv2d: 3-42                 [-1, 512, 1, 1]           2,359,296\n",
      "|    |    └─BatchNorm2d: 3-43            [-1, 512, 1, 1]           1,024\n",
      "|    |    └─Sequential: 3-44             [-1, 512, 1, 1]           132,096\n",
      "|    |    └─ReLU: 3-45                   [-1, 512, 1, 1]           --\n",
      "|    └─BasicBlock: 2-8                   [-1, 512, 1, 1]           --\n",
      "|    |    └─Conv2d: 3-46                 [-1, 512, 1, 1]           2,359,296\n",
      "|    |    └─BatchNorm2d: 3-47            [-1, 512, 1, 1]           1,024\n",
      "|    |    └─ReLU: 3-48                   [-1, 512, 1, 1]           --\n",
      "|    |    └─Conv2d: 3-49                 [-1, 512, 1, 1]           2,359,296\n",
      "|    |    └─BatchNorm2d: 3-50            [-1, 512, 1, 1]           1,024\n",
      "|    |    └─ReLU: 3-51                   [-1, 512, 1, 1]           --\n",
      "├─AdaptiveAvgPool2d: 1-9                 [-1, 512, 1, 1]           --\n",
      "├─Linear: 1-10                           [-1, 10]                  5,130\n",
      "==========================================================================================\n",
      "Total params: 11,181,642\n",
      "Trainable params: 11,181,642\n",
      "Non-trainable params: 0\n",
      "Total mult-adds (M): 59.52\n",
      "==========================================================================================\n",
      "Input size (MB): 0.01\n",
      "Forward/backward pass size (MB): 0.77\n",
      "Params size (MB): 42.65\n",
      "Estimated Total Size (MB): 43.44\n",
      "==========================================================================================\n"
     ]
    }
   ],
   "metadata": {}
  },
  {
   "cell_type": "markdown",
   "source": [
    "**6. Define The Loss Function**\r\n",
    "---"
   ],
   "metadata": {}
  },
  {
   "cell_type": "code",
   "execution_count": 45,
   "source": [
    "# loss function\r\n",
    "criterion = nn.CrossEntropyLoss()\r\n",
    "\r\n",
    "# optimizer\r\n",
    "optimizer = optim.SGD(model.parameters(), lr = 0.001, momentum=0.99)"
   ],
   "outputs": [],
   "metadata": {}
  },
  {
   "cell_type": "markdown",
   "source": [
    "**7.The Training Function**\r\n",
    "---"
   ],
   "metadata": {}
  },
  {
   "cell_type": "code",
   "execution_count": 46,
   "source": [
    "# The training function\r\n",
    "from tqdm import tqdm\r\n",
    "print(f'Training with Noise:{TRAIN_NOISE}')\r\n",
    "print(f'Testing with Noise:{TEST_NOISE}')\r\n",
    "print(f'Pretrained: {pretrained}, Required Gradient: {requires_grad}')\r\n",
    "\r\n",
    "if pretrained and requires_grad:\r\n",
    "    print('Training with ImageNet Weights and updating hidden layer weights')\r\n",
    "elif pretrained and not requires_grad:\r\n",
    "    print('Training with ImageNet Weights but Freezing hidden layer weights')\r\n",
    "elif not pretrained and requires_grad:\r\n",
    "    print('Training with random weights and updating hidden layer weights')\r\n",
    "elif not pretrained and not requires_grad:\r\n",
    "    print('Training with random weights but Freezing hidden layer weights')\r\n",
    "\r\n",
    "def train(NUM_EPOCHs, epoch, model, dataloader):\r\n",
    "    model.train()\r\n",
    "    loss = 0\r\n",
    "    acc = 0\r\n",
    "    running_loss = 0\r\n",
    "    running_correct = 0\r\n",
    "    with tqdm(trainLoader, unit=\"batch\") as tepoch:\r\n",
    "        for i,data in enumerate(tepoch):\r\n",
    "            tepoch.set_description(f\"Epoch {epoch+1}\")\r\n",
    "            # get the inputs\r\n",
    "            inputs, labels = data[0].to(device), data[1].to(device)\r\n",
    "            if TRAIN_NOISE:\r\n",
    "                noise = torch.randn(inputs.shape).to(device)\r\n",
    "                new_img = inputs + noise\r\n",
    "            elif TRAIN_NOISE == False:\r\n",
    "                new_img = inputs\r\n",
    "                \r\n",
    "            new_img = new_img.to(device)\r\n",
    "            \r\n",
    "            # zero the parameter gradients\r\n",
    "            optimizer.zero_grad()\r\n",
    "            \r\n",
    "            # forward + backward + optimize\r\n",
    "            outputs = model(new_img)\r\n",
    "            loss = criterion(outputs, labels)\r\n",
    "            _, preds = torch.max(outputs.data, 1)\r\n",
    "            \r\n",
    "            running_loss += loss.item()\r\n",
    "            running_correct += torch.sum(preds == labels.data).sum().item()\r\n",
    "            \r\n",
    "            # backward + optimize only if in training phase\r\n",
    "            loss.backward()\r\n",
    "            optimizer.step()\r\n",
    "            # print statistics\r\n",
    "            tepoch.set_postfix(loss=running_loss/(i+1), acc= 100. * running_correct / (BATCH_SIZE * (i+1)))\r\n",
    "            \r\n",
    "    loss = running_loss / len(trainLoader)\r\n",
    "    acc = 100. * running_correct / len(trainLoader.dataset)\r\n",
    "    print(f'Epoch {epoch+1} Loss: {loss:.4f} Acc: {acc:.4f}')\r\n",
    "    return loss, acc"
   ],
   "outputs": [
    {
     "output_type": "stream",
     "name": "stdout",
     "text": [
      "Training with Noise:True\n",
      "Testing with Noise:False\n",
      "Pretrained: True, Required Gradient: True\n",
      "Training with ImageNet Weights and updating hidden layer weights\n"
     ]
    }
   ],
   "metadata": {}
  },
  {
   "cell_type": "markdown",
   "source": [
    "**8.The valildation Function**\r\n",
    "---"
   ],
   "metadata": {}
  },
  {
   "cell_type": "code",
   "execution_count": 47,
   "source": [
    "# the validation function\r\n",
    "def validate(NUM_EPOCHS, epoch, model, testloader):\r\n",
    "    model.eval()\r\n",
    "    loss = 0.0\r\n",
    "    acc = 0\r\n",
    "    running_loss = 0.0\r\n",
    "    running_correct = 0\r\n",
    "    with torch.no_grad():\r\n",
    "        for i, data in enumerate(testloader):\r\n",
    "            img, labels = data[0].to(device), data[1].to(device)\r\n",
    "            # add noise to the image data\r\n",
    "            if TEST_NOISE:\r\n",
    "                noise = torch.randn(img.shape).to(device)\r\n",
    "                new_img = img + noise\r\n",
    "            elif TEST_NOISE == False:\r\n",
    "                new_img = img\r\n",
    "            new_img = new_img.to(device)\r\n",
    "            outputs = model(new_img)\r\n",
    "            loss = criterion(outputs, labels)\r\n",
    "            _, preds = torch.max(outputs.data, 1)\r\n",
    "            running_loss += loss.item()\r\n",
    "            running_correct += (preds == labels).sum().item()\r\n",
    "    loss = running_loss / len(testset)\r\n",
    "    acc = 100. * running_correct / len(testset)\r\n",
    "    print(f\"Epoch {epoch+1} of {NUM_EPOCHS}, val loss: {loss:.3f}, val acc: {acc:.3f}\")\r\n",
    "    return loss, acc "
   ],
   "outputs": [],
   "metadata": {}
  },
  {
   "cell_type": "code",
   "execution_count": 48,
   "source": [
    "train_loss, train_acc = [], []\r\n",
    "val_loss, val_acc = [], []\r\n",
    "start = time.time()\r\n",
    "for epoch in range(EPOCHS):\r\n",
    "    e_start = time.time()\r\n",
    "    train_epoch_loss, train_epoch_acc = train(EPOCHS, epoch, model, trainLoader)\r\n",
    "    train_loss.append(train_epoch_loss)\r\n",
    "    train_acc.append(train_epoch_acc)\r\n",
    "    val_epoch_loss, val_epoch_acc = validate(EPOCHS, epoch, model, testLoader)\r\n",
    "    val_loss.append(val_epoch_loss)\r\n",
    "    val_acc.append(val_epoch_acc)\r\n",
    "    e_end = time.time()\r\n",
    "    print(f\"Took {(e_end-e_start)/60:.3f} minutes for epoch {epoch+1}\")\r\n",
    "end = time.time()\r\n",
    "print(f\"Took {(end-start)/60:.3f} minutes to train\")"
   ],
   "outputs": [
    {
     "output_type": "stream",
     "name": "stderr",
     "text": [
      "Epoch 1: 100%|██████████| 1563/1563 [01:07<00:00, 23.20batch/s, acc=32, loss=1.99]\n"
     ]
    },
    {
     "output_type": "stream",
     "name": "stdout",
     "text": [
      "Epoch 1 Loss: 1.9949 Acc: 32.0180\n",
      "Epoch 1 of 10, val loss: 0.073, val acc: 30.370\n",
      "Took 1.207 minutes for epoch 1\n"
     ]
    },
    {
     "output_type": "stream",
     "name": "stderr",
     "text": [
      "Epoch 2: 100%|██████████| 1563/1563 [01:07<00:00, 23.16batch/s, acc=39.9, loss=1.71]\n"
     ]
    },
    {
     "output_type": "stream",
     "name": "stdout",
     "text": [
      "Epoch 2 Loss: 1.7139 Acc: 39.8840\n",
      "Epoch 2 of 10, val loss: 0.097, val acc: 26.600\n",
      "Took 1.207 minutes for epoch 2\n"
     ]
    },
    {
     "output_type": "stream",
     "name": "stderr",
     "text": [
      "Epoch 3: 100%|██████████| 1563/1563 [01:08<00:00, 22.83batch/s, acc=44, loss=1.58]\n"
     ]
    },
    {
     "output_type": "stream",
     "name": "stdout",
     "text": [
      "Epoch 3 Loss: 1.5783 Acc: 43.9740\n",
      "Epoch 3 of 10, val loss: 0.105, val acc: 26.970\n",
      "Took 1.224 minutes for epoch 3\n"
     ]
    },
    {
     "output_type": "stream",
     "name": "stderr",
     "text": [
      "Epoch 4: 100%|██████████| 1563/1563 [01:07<00:00, 23.26batch/s, acc=47.1, loss=1.48]\n"
     ]
    },
    {
     "output_type": "stream",
     "name": "stdout",
     "text": [
      "Epoch 4 Loss: 1.4815 Acc: 47.1320\n",
      "Epoch 4 of 10, val loss: 0.074, val acc: 32.890\n",
      "Took 1.201 minutes for epoch 4\n"
     ]
    },
    {
     "output_type": "stream",
     "name": "stderr",
     "text": [
      "Epoch 5: 100%|██████████| 1563/1563 [01:07<00:00, 23.09batch/s, acc=49.3, loss=1.43]\n"
     ]
    },
    {
     "output_type": "stream",
     "name": "stdout",
     "text": [
      "Epoch 5 Loss: 1.4307 Acc: 49.2880\n",
      "Epoch 5 of 10, val loss: 0.124, val acc: 24.470\n",
      "Took 1.210 minutes for epoch 5\n"
     ]
    },
    {
     "output_type": "stream",
     "name": "stderr",
     "text": [
      "Epoch 6: 100%|██████████| 1563/1563 [01:08<00:00, 22.66batch/s, acc=52.2, loss=1.35]\n"
     ]
    },
    {
     "output_type": "stream",
     "name": "stdout",
     "text": [
      "Epoch 6 Loss: 1.3495 Acc: 52.1680\n",
      "Epoch 6 of 10, val loss: 0.074, val acc: 33.030\n",
      "Took 1.226 minutes for epoch 6\n"
     ]
    },
    {
     "output_type": "stream",
     "name": "stderr",
     "text": [
      "Epoch 7: 100%|██████████| 1563/1563 [01:00<00:00, 25.72batch/s, acc=53.9, loss=1.3]\n"
     ]
    },
    {
     "output_type": "stream",
     "name": "stdout",
     "text": [
      "Epoch 7 Loss: 1.2987 Acc: 53.9180\n",
      "Epoch 7 of 10, val loss: 0.077, val acc: 31.160\n",
      "Took 1.100 minutes for epoch 7\n"
     ]
    },
    {
     "output_type": "stream",
     "name": "stderr",
     "text": [
      "Epoch 8: 100%|██████████| 1563/1563 [01:03<00:00, 24.66batch/s, acc=54.6, loss=1.28]\n"
     ]
    },
    {
     "output_type": "stream",
     "name": "stdout",
     "text": [
      "Epoch 8 Loss: 1.2794 Acc: 54.5740\n",
      "Epoch 8 of 10, val loss: 0.065, val acc: 35.730\n",
      "Took 1.133 minutes for epoch 8\n"
     ]
    },
    {
     "output_type": "stream",
     "name": "stderr",
     "text": [
      "Epoch 9: 100%|██████████| 1563/1563 [01:17<00:00, 20.22batch/s, acc=56.3, loss=1.23]\n"
     ]
    },
    {
     "output_type": "stream",
     "name": "stdout",
     "text": [
      "Epoch 9 Loss: 1.2277 Acc: 56.3420\n",
      "Epoch 9 of 10, val loss: 0.082, val acc: 33.280\n",
      "Took 1.370 minutes for epoch 9\n"
     ]
    },
    {
     "output_type": "stream",
     "name": "stderr",
     "text": [
      "Epoch 10: 100%|██████████| 1563/1563 [01:16<00:00, 20.46batch/s, acc=56.9, loss=1.22]\n"
     ]
    },
    {
     "output_type": "stream",
     "name": "stdout",
     "text": [
      "Epoch 10 Loss: 1.2160 Acc: 56.8800\n",
      "Epoch 10 of 10, val loss: 0.064, val acc: 38.480\n",
      "Took 1.350 minutes for epoch 10\n",
      "Took 12.226 minutes to train\n"
     ]
    }
   ],
   "metadata": {}
  },
  {
   "cell_type": "markdown",
   "source": [
    "**9.Model Evaluation**\r\n",
    "---"
   ],
   "metadata": {}
  },
  {
   "cell_type": "code",
   "execution_count": 51,
   "source": [
    "torch.save(model, f\"{TRAIN_NOISE}_{TEST_NOISE}.pth\")\r\n",
    "plt.figure(figsize=(20,6))\r\n",
    "plt.subplot(121)\r\n",
    "plt.plot(train_acc, label='training accuracy')\r\n",
    "plt.plot(val_acc, label='validation accuracy')\r\n",
    "plt.title('Accuracy Plots')\r\n",
    "plt.xlabel('Epochs')\r\n",
    "plt.ylabel('Accuracy')\r\n",
    "plt.legend()\r\n",
    "# plt.savefig(f\"outputs/plots/{TRAIN_NOISE}_{TEST_NOISE}_acc.png\")\r\n",
    "plt.subplot(122)\r\n",
    "plt.plot(train_loss, label='training loss')\r\n",
    "plt.plot(val_loss, label='validation loss')\r\n",
    "plt.title('Loss Plots')\r\n",
    "plt.xlabel('Epochs')\r\n",
    "plt.ylabel('Loss')\r\n",
    "plt.legend()\r\n",
    "# plt.savefig(f\"outputs/plots/{args['train_noise']}_{args['test_noise']}_loss.png\")\r\n",
    "plt.show()"
   ],
   "outputs": [
    {
     "output_type": "display_data",
     "data": {
      "image/png": "[encoded data removed]",
      "text/plain": [
       "<Figure size 1440x432 with 2 Axes>"
      ]
     },
     "metadata": {}
    }
   ],
   "metadata": {}
  },
  {
   "cell_type": "code",
   "execution_count": null,
   "source": [],
   "outputs": [],
   "metadata": {}
  }
 ],
 "metadata": {
  "orig_nbformat": 4,
  "language_info": {
   "name": "python",
   "version": "3.8.0",
   "mimetype": "text/x-python",
   "codemirror_mode": {
    "name": "ipython",
    "version": 3
   },
   "pygments_lexer": "ipython3",
   "nbconvert_exporter": "python",
   "file_extension": ".py"
  },
  "kernelspec": {
   "name": "python3",
   "display_name": "Python 3.8.0 64-bit ('pytorch19': conda)"
  },
  "interpreter": {
   "hash": "884a8f81666a19c0851426c83cd6eaa7b212468ad852fb3caa21591c98d4369f"
  }
 },
 "nbformat": 4,
 "nbformat_minor": 2
}