{
 "cells": [
  {
   "cell_type": "markdown",
   "source": [
    "### Transfer Learning with Pytorch\r\n",
    "\r\n",
    "### 1.What is Transfer Learning \r\n",
    "\r\n",
    "- Transfer Learning is speciafically using a neural network that has been pre-trained on a much larger dataset.\r\n",
    "- The main benefit of using transfer learning is that the neural network  has already learn the important features from large dataset.\r\n",
    "- When we use that netwrork on our own dataset, we just need to tweak a few things to achieve good results.\r\n",
    "\r\n",
    "![](https://miro.medium.com/max/1400/1*Ww3AMxZeoiB84GVSRBr4Bw.png)\r\n",
    "\r\n",
    "### 2.When to use Transfer Learning?\r\n",
    "- It used when dataset is very small.\r\n",
    "- Due to huge computational Power.\r\n",
    "\r\n",
    "![](https://miro.medium.com/max/1400/1*9GTEzcO8KxxrfutmtsPs3Q.png)"
   ],
   "metadata": {}
  },
  {
   "cell_type": "markdown",
   "source": [
    "### Dataset used in pretrained Model\r\n",
    "\r\n",
    "![](https://debuggercafe.com/wp-content/uploads/2019/12/imagenet.png)\r\n",
    "\r\n",
    "* Images : 14 Millions\r\n",
    "* classes : 22000\r\n",
    "* Organize : [ILSVRC](https://image-net.org/challenges/LSVRC/2017/index)"
   ],
   "metadata": {}
  },
  {
   "cell_type": "markdown",
   "source": [
    "### 1.Load Libraries"
   ],
   "metadata": {}
  },
  {
   "cell_type": "code",
   "execution_count": 1,
   "source": [
    "# torch loaded..!!!\r\n",
    "import torch\r\n",
    "import torch.nn.functional as F\r\n",
    "import torch.optim as optim\r\n",
    "import torch.nn as nn\r\n",
    "\r\n",
    "# torchvision loaded..!!!\r\n",
    "import torchvision\r\n",
    "import torchvision.transforms as transforms\r\n",
    "from torchvision import models\r\n",
    "from torchsummary import summary\r\n",
    "\r\n",
    "# other libraries loaded,,,!!!\r\n",
    "import time\r\n",
    "import numpy as np\r\n",
    "import matplotlib.pyplot as plt\r\n",
    "from tqdm.notebook import tqdm\r\n"
   ],
   "outputs": [],
   "metadata": {}
  },
  {
   "cell_type": "markdown",
   "source": [
    "### 2.Check the GPU availability"
   ],
   "metadata": {}
  },
  {
   "cell_type": "code",
   "execution_count": 2,
   "source": [
    "device = torch.device(\"cuda:0\" if torch.cuda.is_available() else \"cpu\")\r\n",
    "print(device)"
   ],
   "outputs": [
    {
     "output_type": "stream",
     "name": "stdout",
     "text": [
      "cuda:0\n"
     ]
    }
   ],
   "metadata": {}
  },
  {
   "cell_type": "markdown",
   "source": [
    "### 3. Download the dataset and prepare"
   ],
   "metadata": {}
  },
  {
   "cell_type": "code",
   "execution_count": 3,
   "source": [
    "# Tranforms for the training, validation, and testing sets\r\n",
    "transform = transforms.Compose(\r\n",
    "    [\r\n",
    "        transforms.Resize((224,224)),\r\n",
    "        transforms.ToTensor(),\r\n",
    "        transforms.Normalize((0.5, 0.5, 0.5), (0.5, 0.5, 0.5))\r\n",
    "    ]\r\n",
    ")"
   ],
   "outputs": [],
   "metadata": {}
  },
  {
   "cell_type": "code",
   "execution_count": 4,
   "source": [
    "# Download the training data and testing data\r\n",
    "trainset = torchvision.datasets.CIFAR10(root='./data_new', train=True, download=True, transform=transform)\r\n",
    "testset = torchvision.datasets.CIFAR10(root='./data_new', train=False, download=True, transform=transform)"
   ],
   "outputs": [
    {
     "output_type": "stream",
     "name": "stdout",
     "text": [
      "Downloading https://www.cs.toronto.edu/~kriz/cifar-10-python.tar.gz to ./data_new\\cifar-10-python.tar.gz\n"
     ]
    },
    {
     "output_type": "stream",
     "name": "stderr",
     "text": [
      "170499072it [00:28, 5990303.03it/s]                               \n"
     ]
    },
    {
     "output_type": "stream",
     "name": "stdout",
     "text": [
      "Extracting ./data_new\\cifar-10-python.tar.gz to ./data_new\n",
      "Files already downloaded and verified\n"
     ]
    }
   ],
   "metadata": {}
  },
  {
   "cell_type": "code",
   "execution_count": 5,
   "source": [
    "# Load the data using DataLoader\r\n",
    "trainLoader = torch.utils.data.DataLoader(trainset, batch_size= 32, shuffle=True, num_workers=2)\r\n",
    "testLoader = torch.utils.data.DataLoader(testset, batch_size=32, shuffle=False, num_workers=2)"
   ],
   "outputs": [],
   "metadata": {}
  },
  {
   "cell_type": "markdown",
   "source": [
    "### 4.Downloading the ResNet18 Network\r\n",
    "![](https://i.imgur.com/XwcnU5x.png)"
   ],
   "metadata": {}
  },
  {
   "cell_type": "code",
   "execution_count": 6,
   "source": [
    "for batch_1 in trainLoader:\r\n",
    "    batch = batch_1\r\n",
    "    break\r\n",
    "\r\n",
    "print(f\"Image shape:{batch[0].shape}\") # Image pixels -> (batch, channel, height, width)\r\n",
    "print(f\"Label shape:{batch[1].shape}\") # Label -> (batch, 1)"
   ],
   "outputs": [
    {
     "output_type": "stream",
     "name": "stdout",
     "text": [
      "Image shape:torch.Size([32, 3, 224, 224])\n",
      "Label shape:torch.Size([32])\n"
     ]
    }
   ],
   "metadata": {}
  },
  {
   "cell_type": "code",
   "execution_count": 7,
   "source": [
    "resnet18 = models.resnet18(pretrained=True)\r\n",
    "num_features = resnet18.fc.in_features\r\n",
    "resnet18.fc = nn.Linear(num_features, 10)\r\n",
    "resnet18.to(device)\r\n",
    "print(str(summary(resnet18.to(device), (3, 224, 224), depth=1, device=device)))"
   ],
   "outputs": [
    {
     "output_type": "stream",
     "name": "stderr",
     "text": [
      "C:\\Users\\SHIVA\\miniconda3\\envs\\pytorch19\\lib\\site-packages\\torch\\nn\\functional.py:718: UserWarning: Named tensors and all their associated APIs are an experimental feature and subject to change. Please do not use them for anything important until they are released as stable. (Triggered internally at  ..\\c10/core/TensorImpl.h:1156.)\n",
      "  return torch.max_pool2d(input, kernel_size, stride, padding, dilation, ceil_mode)\n"
     ]
    },
    {
     "output_type": "stream",
     "name": "stdout",
     "text": [
      "==========================================================================================\n",
      "Layer (type:depth-idx)                   Output Shape              Param #\n",
      "==========================================================================================\n",
      "├─Conv2d: 1-1                            [-1, 64, 112, 112]        9,408\n",
      "├─BatchNorm2d: 1-2                       [-1, 64, 112, 112]        128\n",
      "├─ReLU: 1-3                              [-1, 64, 112, 112]        --\n",
      "├─MaxPool2d: 1-4                         [-1, 64, 56, 56]          --\n",
      "├─Sequential: 1-5                        [-1, 64, 56, 56]          147,968\n",
      "├─Sequential: 1-6                        [-1, 128, 28, 28]         525,568\n",
      "├─Sequential: 1-7                        [-1, 256, 14, 14]         2,099,712\n",
      "├─Sequential: 1-8                        [-1, 512, 7, 7]           8,393,728\n",
      "├─AdaptiveAvgPool2d: 1-9                 [-1, 512, 1, 1]           --\n",
      "├─Linear: 1-10                           [-1, 10]                  5,130\n",
      "==========================================================================================\n",
      "Total params: 11,181,642\n",
      "Trainable params: 11,181,642\n",
      "Non-trainable params: 0\n",
      "Total mult-adds (M): 140.34\n",
      "==========================================================================================\n",
      "Input size (MB): 0.57\n",
      "Forward/backward pass size (MB): 12.25\n",
      "Params size (MB): 42.65\n",
      "Estimated Total Size (MB): 55.48\n",
      "==========================================================================================\n",
      "==========================================================================================\n",
      "Layer (type:depth-idx)                   Output Shape              Param #\n",
      "==========================================================================================\n",
      "├─Conv2d: 1-1                            [-1, 64, 112, 112]        9,408\n",
      "├─BatchNorm2d: 1-2                       [-1, 64, 112, 112]        128\n",
      "├─ReLU: 1-3                              [-1, 64, 112, 112]        --\n",
      "├─MaxPool2d: 1-4                         [-1, 64, 56, 56]          --\n",
      "├─Sequential: 1-5                        [-1, 64, 56, 56]          147,968\n",
      "├─Sequential: 1-6                        [-1, 128, 28, 28]         525,568\n",
      "├─Sequential: 1-7                        [-1, 256, 14, 14]         2,099,712\n",
      "├─Sequential: 1-8                        [-1, 512, 7, 7]           8,393,728\n",
      "├─AdaptiveAvgPool2d: 1-9                 [-1, 512, 1, 1]           --\n",
      "├─Linear: 1-10                           [-1, 10]                  5,130\n",
      "==========================================================================================\n",
      "Total params: 11,181,642\n",
      "Trainable params: 11,181,642\n",
      "Non-trainable params: 0\n",
      "Total mult-adds (M): 140.34\n",
      "==========================================================================================\n",
      "Input size (MB): 0.57\n",
      "Forward/backward pass size (MB): 12.25\n",
      "Params size (MB): 42.65\n",
      "Estimated Total Size (MB): 55.48\n",
      "==========================================================================================\n"
     ]
    }
   ],
   "metadata": {}
  },
  {
   "cell_type": "markdown",
   "source": [
    "### 5.Freezing Convolution Weights\r\n",
    "- Original dataset contains 1000 Classes.\r\n",
    "- Last layer set `resnet18.fc = Linear(512,10)`.\r\n",
    "- Freeze all the weights of convolution block."
   ],
   "metadata": {}
  },
  {
   "cell_type": "code",
   "execution_count": 8,
   "source": [
    "# Freeze parameters so we don't backprop through them\r\n",
    "# for param in resnet18.parameters():\r\n",
    "#     param.requires_grad = False"
   ],
   "outputs": [],
   "metadata": {}
  },
  {
   "cell_type": "markdown",
   "source": [
    "### 6.Optimizer and Loss Function"
   ],
   "metadata": {}
  },
  {
   "cell_type": "code",
   "execution_count": 9,
   "source": [
    "# Define the loss function and optimizer\r\n",
    "loss_fn = nn.CrossEntropyLoss()\r\n",
    "optimizer = optim.SGD(resnet18.fc.parameters(), lr=0.001, momentum=0.9)"
   ],
   "outputs": [],
   "metadata": {}
  },
  {
   "cell_type": "markdown",
   "source": [
    "### 7.Training and Validation"
   ],
   "metadata": {}
  },
  {
   "cell_type": "code",
   "execution_count": 28,
   "source": [
    "def validation(model, testLoader):\r\n",
    "    model.eval()\r\n",
    "    val_running_loss = 0\r\n",
    "    val_running_correct = 0\r\n",
    "    # 1. Load the data\r\n",
    "    for int, data in enumerate(testLoader, 0):\r\n",
    "        # 2. Get the inputs and labels\r\n",
    "        inputs, labels = data[0].to(device), data[1].to(device)\r\n",
    "        \r\n",
    "        # 3. Forward pass\r\n",
    "        outputs = model(inputs)\r\n",
    "        \r\n",
    "        # 4. Calculate the loss\r\n",
    "        loss = loss_fn(outputs, labels)\r\n",
    "        \r\n",
    "        # 5. Calculate the val_loss\r\n",
    "        val_running_loss += loss.item()\r\n",
    "        \r\n",
    "        # 6. torch.max returns the max value and the index of the max value\r\n",
    "        _, preds = torch.max(outputs, 1)\r\n",
    "        \r\n",
    "        # 7. Calculate the val correct  \r\n",
    "        val_running_correct += (preds == labels).sum().item()\r\n",
    "    \r\n",
    "    val_loss = val_running_loss / len(testLoader.dataset)\r\n",
    "    val_accuracy = val_running_correct / len(testLoader.dataset)\r\n",
    "        \r\n",
    "    return val_loss, val_accuracy\r\n",
    "    "
   ],
   "outputs": [],
   "metadata": {}
  },
  {
   "cell_type": "markdown",
   "source": [
    " In validation method we are calculating the loss and accuracy. but we are not doing any backpropagating the gradient, backpropagation is only required during training"
   ],
   "metadata": {}
  },
  {
   "cell_type": "code",
   "execution_count": 29,
   "source": [
    "def fit(model, trainLoader):\r\n",
    "    model.train()\r\n",
    "    train_running_loss = 0\r\n",
    "    train_running_correct = 0\r\n",
    "    # 1. Load the data\r\n",
    "    for i, data in enumerate(trainLoader, 0):\r\n",
    "        # 2. Get the inputs and labels\r\n",
    "        inputs, labels = data[0].to(device), data[1].to(device)\r\n",
    "        \r\n",
    "        # 3. zero the parameter gradients\r\n",
    "        optimizer.zero_grad()\r\n",
    "        \r\n",
    "        # 4. forward pass\r\n",
    "        output = model(inputs)\r\n",
    "        \r\n",
    "        # 5. Calculate the loss\r\n",
    "        loss = loss_fn(output, labels)\r\n",
    "        train_running_loss += loss.item()\r\n",
    "        \r\n",
    "        # 6. predict the output\r\n",
    "        _, preds = torch.max(output.data, 1)\r\n",
    "        train_running_correct += (preds - labels).sum().item()\r\n",
    "        \r\n",
    "        # 7. backward pass\r\n",
    "        loss.backward()\r\n",
    "        \r\n",
    "        # 8. optimize the weights\r\n",
    "        optimizer.step()\r\n",
    "        \r\n",
    "    train_loss = train_running_loss / len(trainLoader.dataset)\r\n",
    "    train_accuracy = train_running_correct/len(trainLoader.dataset)\r\n",
    "    # print(f\"Train Loss: {train_loss:.2f}, Train Acc: {train_accuracy:.2f}\")\r\n",
    "    \r\n",
    "    return train_loss, train_accuracy       \r\n",
    "    "
   ],
   "outputs": [],
   "metadata": {}
  },
  {
   "cell_type": "markdown",
   "source": [
    "* `fit()` method calculating gradient and backpropagation.\r\n",
    "* `fit(), validation()` will keep returning the loss and accuracy values for each epoch."
   ],
   "metadata": {}
  },
  {
   "cell_type": "code",
   "execution_count": 31,
   "source": [
    "train_loss , train_accuracy = [], []\r\n",
    "val_loss , val_accuracy = [], []\r\n",
    "start = time.time()\r\n",
    "for epoch in range(10):\r\n",
    "    start_epoch = time.time()\r\n",
    "    train_epoch_loss, train_epoch_accuracy = fit(resnet18, trainLoader)\r\n",
    "    val_epoch_loss, val_epoch_accuracy = validation(resnet18, testLoader)\r\n",
    "    i = epoch + 1\r\n",
    "    train_loss.append(train_epoch_loss)\r\n",
    "    train_accuracy.append(train_epoch_accuracy)\r\n",
    "    val_loss.append(val_epoch_loss)\r\n",
    "    val_accuracy.append(val_epoch_accuracy)\r\n",
    "    end_epoch = time.time()\r\n",
    "    total_time = end_epoch - start_epoch\r\n",
    "    print(f\"Epoch : {i}/{10} ETA:{total_time:.2f} seconds, Train Loss: {train_epoch_loss:.4f}, Train Acc: {train_epoch_accuracy:.2f}, Val Loss: {val_epoch_loss}, Val Acc: {val_epoch_accuracy}\")\r\n",
    "    \r\n",
    "end = time.time()\r\n",
    "print((end-start)/60, 'minutes')"
   ],
   "outputs": [
    {
     "output_type": "stream",
     "name": "stdout",
     "text": [
      "Epoch : 1/10 ETA:144.10 seconds, Train Loss: 0.0184, Train Acc: 0.01, Val Loss: 0.018194763697683813, Val Acc: 0.8012\n",
      "Epoch : 2/10 ETA:151.63 seconds, Train Loss: 0.0183, Train Acc: 0.01, Val Loss: 0.017984453096985816, Val Acc: 0.8001\n",
      "Epoch : 3/10 ETA:164.47 seconds, Train Loss: 0.0180, Train Acc: 0.02, Val Loss: 0.01749786235243082, Val Acc: 0.8105\n",
      "Epoch : 4/10 ETA:174.91 seconds, Train Loss: 0.0180, Train Acc: 0.01, Val Loss: 0.017611042676866053, Val Acc: 0.8067\n",
      "Epoch : 5/10 ETA:170.74 seconds, Train Loss: 0.0180, Train Acc: 0.01, Val Loss: 0.017491949382424356, Val Acc: 0.809\n",
      "Epoch : 6/10 ETA:170.06 seconds, Train Loss: 0.0179, Train Acc: 0.01, Val Loss: 0.01748853136599064, Val Acc: 0.807\n",
      "Epoch : 7/10 ETA:166.22 seconds, Train Loss: 0.0177, Train Acc: 0.01, Val Loss: 0.01750915951281786, Val Acc: 0.8109\n",
      "Epoch : 8/10 ETA:166.30 seconds, Train Loss: 0.0177, Train Acc: 0.01, Val Loss: 0.017499353241920472, Val Acc: 0.8103\n",
      "Epoch : 9/10 ETA:163.44 seconds, Train Loss: 0.0178, Train Acc: 0.01, Val Loss: 0.01760139015465975, Val Acc: 0.8083\n",
      "Epoch : 10/10 ETA:164.15 seconds, Train Loss: 0.0177, Train Acc: 0.01, Val Loss: 0.017467146189510823, Val Acc: 0.812\n",
      "27.26687217950821 minutes\n"
     ]
    }
   ],
   "metadata": {}
  },
  {
   "cell_type": "markdown",
   "source": [
    "### 8. Plot the graph"
   ],
   "metadata": {}
  },
  {
   "cell_type": "code",
   "execution_count": 32,
   "source": [
    "plt.figure(figsize=(10, 7))\r\n",
    "plt.plot(train_accuracy, color='green', label='train accuracy')\r\n",
    "plt.plot(val_accuracy, color='blue', label='validataion accuracy')\r\n",
    "plt.legend()\r\n",
    "plt.show()\r\n",
    "\r\n",
    "plt.figure(figsize=(10, 7))\r\n",
    "plt.plot(train_loss, color='orange', label='train loss')\r\n",
    "plt.plot(val_loss, color='red', label='validataion loss')\r\n",
    "plt.legend()\r\n",
    "plt.savefig('loss.png')\r\n",
    "plt.show()"
   ],
   "outputs": [
    {
     "output_type": "display_data",
     "data": {
      "image/png": "[encoded data removed]",
      "text/plain": [
       "<Figure size 720x504 with 1 Axes>"
      ]
     },
     "metadata": {
      "needs_background": "light"
     }
    },
    {
     "output_type": "display_data",
     "data": {
      "image/png": "[encoded data removed]",
      "text/plain": [
       "<Figure size 720x504 with 1 Axes>"
      ]
     },
     "metadata": {
      "needs_background": "light"
     }
    }
   ],
   "metadata": {}
  }
 ],
 "metadata": {
  "orig_nbformat": 4,
  "language_info": {
   "name": "python",
   "version": "3.8.0",
   "mimetype": "text/x-python",
   "codemirror_mode": {
    "name": "ipython",
    "version": 3
   },
   "pygments_lexer": "ipython3",
   "nbconvert_exporter": "python",
   "file_extension": ".py"
  },
  "kernelspec": {
   "name": "python3",
   "display_name": "Python 3.8.0 64-bit ('pytorch19': conda)"
  },
  "interpreter": {
   "hash": "884a8f81666a19c0851426c83cd6eaa7b212468ad852fb3caa21591c98d4369f"
  }
 },
 "nbformat": 4,
 "nbformat_minor": 2
}