{
 "cells": [
  {
   "cell_type": "markdown",
   "source": [
    "### **AutoEncoder with Pytorch**\r\n",
    "\r\n",
    "### **What is AutoEncoder?**\r\n",
    "- AutoEncoder is type of Neural Network utilized to extract efficient features from unlabel data. It is Unsupervised Deep learning Architecture.\r\n",
    "- AutoEncoder is used to learn compresssed representation of data that used to learn to reconstruct the images from latent code space.\r\n",
    "- AutoEncoders obtains the latent code from a **Encoder Network**.\r\n",
    "- AutoEncoder Obtain the latent code as input to the **Decoder Network**, which tries to reconstruct the images that network has been trained on.\r\n",
    "> _“**Autoencoding** is a data compression algorithm where the compression and decompression functions are \r\n",
    "1) data-specific, \r\n",
    "2) lossy, and \r\n",
    "3) learned automatically from examples rather than engineered by a human.\"_\r\n",
    "--  _Keras Blog_\r\n",
    "\r\n",
    "![](https://debuggercafe.com/wp-content/uploads/2019/12/autoencoder_nn-1-e1577235910280.png)\r\n",
    "\r\n",
    "### **Principal Behind AutoEncoder**\r\n",
    "- It Contains two part **Encoder** and **Decoder**.\r\n",
    "1. Encoder takes the input(x) and encodes($f(x)$) it.\r\n",
    "$$ r = f(x) $$\r\n",
    "2. Hidden Layer is work as bridge between **Encoder** and **Decoder**.\r\n",
    "$$ h = g(f(x)) $$\r\n",
    "3. Decoder tries to reconstruct the input data from hidden layer coding Decoding function($G$).\r\n",
    "$$ r = g(h) $$"
   ],
   "metadata": {}
  },
  {
   "cell_type": "markdown",
   "source": [
    "Dataset: FashionMNIST  \r\n",
    "* **Train Images** : 60000   \r\n",
    "* **Test Images** : 10000  \r\n",
    "* **Classes** : 0: Tshirt/Top, 1: trouser, 2:pullover, 3:dress, 4:coat, 5: sandal, 6:shirt, 7: sneaker, 8: bag, 9:ankle boot  \r\n",
    "### **1. Load Libraries** \r\n",
    "\r\n",
    "Some of the important imports include:\r\n",
    "\r\n",
    "* `torchvision`: contains many popular computer vision datasets, deep neural network architectures, and image processing modules. We will use this to download the Fashion MNIST and in later articles the CIFAR10 dataset as well.\r\n",
    "* `torch.nn`: contains the deep learning neural network layers such as `Linear()`, and `Conv2d()`.\r\n",
    "* `transforms`: will help in defining the image transforms and normalizations.\r\n",
    "* `optim`: contains the deep learning optimizer classes such as `MSELoss()` and many others as well.\r\n",
    "* `functional`: we will use this for activation functions such as ReLU.\r\n",
    "* `DataLoader`: eases the task of making iterable training and testing sets."
   ],
   "metadata": {}
  },
  {
   "cell_type": "code",
   "execution_count": 1,
   "source": [
    "# torch loaded...!!!\r\n",
    "import torch\r\n",
    "import torch.nn.functional as F\r\n",
    "import torch.nn as nn\r\n",
    "import torch.optim as optim\r\n",
    "\r\n",
    "# torchvision loaded...!!!\r\n",
    "from torchvision import datasets, transforms\r\n",
    "from torchvision.utils import save_image\r\n",
    "from torchsummary import summary\r\n",
    "\r\n",
    "# other libraries loaded...!!!\r\n",
    "import os\r\n",
    "import numpy as np\r\n",
    "import matplotlib.pyplot as plt\r\n",
    "%matplotlib inline\r\n",
    "import time"
   ],
   "outputs": [],
   "metadata": {}
  },
  {
   "cell_type": "markdown",
   "source": [
    "### **2.Define the Constants**"
   ],
   "metadata": {}
  },
  {
   "cell_type": "code",
   "execution_count": 2,
   "source": [
    "# constants\r\n",
    "NUM_EPOCHS = 50\r\n",
    "LEARNING_RATE = 1e-3\r\n",
    "BATCH_SIZE = 128\r\n",
    "\r\n",
    "# image tranformation\r\n",
    "transform = transforms.Compose([transforms.ToTensor(),])"
   ],
   "outputs": [],
   "metadata": {}
  },
  {
   "cell_type": "markdown",
   "source": [
    "### **3.Download dataset and Load into DataLoader**\r\n",
    "\r\n",
    "- The `trainloader` and `testloader` each is of batch size `128`. The data loaders are iterable and you will be a1ble to iterate through them till the number of batches in them. Specifically, the `trainloader` contains `60000/128` number of batches, and the `testloader` contains `10000/128` number of batches."
   ],
   "metadata": {}
  },
  {
   "cell_type": "code",
   "execution_count": 3,
   "source": [
    "trainset = datasets.FashionMNIST(root=\"./data_new\", train=True, transform=transform, download=True)\r\n",
    "testset = datasets.FashionMNIST(root=\"./data_new\", train=False, transform=transform, download=True)\r\n",
    "\r\n",
    "trainLoader = torch.utils.data.DataLoader(trainset, batch_size=BATCH_SIZE, shuffle=True)\r\n",
    "testLoader = torch.utils.data.DataLoader(testset, batch_size=BATCH_SIZE, shuffle=False)"
   ],
   "outputs": [
    {
     "output_type": "stream",
     "name": "stdout",
     "text": [
      "Downloading http://fashion-mnist.s3-website.eu-central-1.amazonaws.com/train-images-idx3-ubyte.gz\n",
      "Downloading http://fashion-mnist.s3-website.eu-central-1.amazonaws.com/train-images-idx3-ubyte.gz to ./data_new\\FashionMNIST\\raw\\train-images-idx3-ubyte.gz\n"
     ]
    },
    {
     "output_type": "stream",
     "name": "stderr",
     "text": [
      "26422272it [00:05, 4830894.61it/s]                              \n"
     ]
    },
    {
     "output_type": "stream",
     "name": "stdout",
     "text": [
      "Extracting ./data_new\\FashionMNIST\\raw\\train-images-idx3-ubyte.gz to ./data_new\\FashionMNIST\\raw\n",
      "\n",
      "Downloading http://fashion-mnist.s3-website.eu-central-1.amazonaws.com/train-labels-idx1-ubyte.gz\n",
      "Downloading http://fashion-mnist.s3-website.eu-central-1.amazonaws.com/train-labels-idx1-ubyte.gz to ./data_new\\FashionMNIST\\raw\\train-labels-idx1-ubyte.gz\n"
     ]
    },
    {
     "output_type": "stream",
     "name": "stderr",
     "text": [
      "29696it [00:00, 216241.55it/s]                          \n"
     ]
    },
    {
     "output_type": "stream",
     "name": "stdout",
     "text": [
      "Extracting ./data_new\\FashionMNIST\\raw\\train-labels-idx1-ubyte.gz to ./data_new\\FashionMNIST\\raw\n",
      "\n",
      "Downloading http://fashion-mnist.s3-website.eu-central-1.amazonaws.com/t10k-images-idx3-ubyte.gz\n",
      "Downloading http://fashion-mnist.s3-website.eu-central-1.amazonaws.com/t10k-images-idx3-ubyte.gz to ./data_new\\FashionMNIST\\raw\\t10k-images-idx3-ubyte.gz\n"
     ]
    },
    {
     "output_type": "stream",
     "name": "stderr",
     "text": [
      "4422656it [00:01, 2943952.24it/s]                             \n"
     ]
    },
    {
     "output_type": "stream",
     "name": "stdout",
     "text": [
      "Extracting ./data_new\\FashionMNIST\\raw\\t10k-images-idx3-ubyte.gz to ./data_new\\FashionMNIST\\raw\n",
      "\n",
      "Downloading http://fashion-mnist.s3-website.eu-central-1.amazonaws.com/t10k-labels-idx1-ubyte.gz\n",
      "Downloading http://fashion-mnist.s3-website.eu-central-1.amazonaws.com/t10k-labels-idx1-ubyte.gz to ./data_new\\FashionMNIST\\raw\\t10k-labels-idx1-ubyte.gz\n"
     ]
    },
    {
     "output_type": "stream",
     "name": "stderr",
     "text": [
      "6144it [00:00, 6175366.35it/s]          "
     ]
    },
    {
     "output_type": "stream",
     "name": "stdout",
     "text": [
      "Extracting ./data_new\\FashionMNIST\\raw\\t10k-labels-idx1-ubyte.gz to ./data_new\\FashionMNIST\\raw\n",
      "\n"
     ]
    },
    {
     "output_type": "stream",
     "name": "stderr",
     "text": [
      "\n",
      "C:\\Users\\SHIVA\\miniconda3\\envs\\pytorch19\\lib\\site-packages\\torchvision\\datasets\\mnist.py:498: UserWarning: The given NumPy array is not writeable, and PyTorch does not support non-writeable tensors. This means you can write to the underlying (supposedly non-writeable) NumPy array using the tensor. You may want to copy the array to protect its data or make it writeable before converting it to a tensor. This type of warning will be suppressed for the rest of this program. (Triggered internally at  ..\\torch\\csrc\\utils\\tensor_numpy.cpp:180.)\n",
      "  return torch.from_numpy(parsed.astype(m[2], copy=False)).view(*s)\n"
     ]
    }
   ],
   "metadata": {}
  },
  {
   "cell_type": "markdown",
   "source": [
    "### **4.Utility Function**\r\n",
    "\r\n",
    "- The first function, `get_device()` either `returns the GPU device` if it is available or the `CPU`. If you notice, this is a bit different from the one-liner code used in the PyTorch tutorials. This is because some IDEs do not recognize the `torch.device()` method. Therefore, to keep the code compatible for both IDE and python notebooks I just changed the code a bit.\r\n",
    "\r\n",
    "- The second function is `make_dir()` which makes a directory to store the reconstructed images while training. At last, we have `save_decoded_image()` which saves the images that the autoencoder reconstructs."
   ],
   "metadata": {}
  },
  {
   "cell_type": "code",
   "execution_count": 4,
   "source": [
    "# utility functions\r\n",
    "def get_device():\r\n",
    "    if torch.cuda.is_available():\r\n",
    "        device = torch.device(\"cuda:0\")\r\n",
    "    else:\r\n",
    "        device = torch.device(\"cpu\")\r\n",
    "    return device\r\n",
    "\r\n",
    "# make dir\r\n",
    "def make_dir():\r\n",
    "    image_dir = \"./FashionMNIST_Images\"\r\n",
    "    if not os.path.exists(image_dir):\r\n",
    "        os.mkdir(image_dir)\r\n",
    "        \r\n",
    "# save decoded images\r\n",
    "def save_decoded_image(img, epoch):\r\n",
    "    img = img.view(img.size(0), 1, 28, 28)\r\n",
    "    save_image(img, \"./FashionMNIST_Images/epoch_\" + str(epoch) + \".png\")\r\n"
   ],
   "outputs": [],
   "metadata": {}
  },
  {
   "cell_type": "markdown",
   "source": [
    "### **5.Define AutoEncoder**"
   ],
   "metadata": {}
  },
  {
   "cell_type": "code",
   "execution_count": 5,
   "source": [
    "    \r\n",
    "class AutoEncoder(nn.Module):\r\n",
    "    def __init__(self):\r\n",
    "        super(AutoEncoder, self).__init__()\r\n",
    "        \r\n",
    "        # encoder\r\n",
    "        self.efc1 = nn.Linear(784, 256)\r\n",
    "        self.efc2 = nn.Linear(256, 128)\r\n",
    "        self.efc3 = nn.Linear(128, 64)\r\n",
    "        self.efc4 = nn.Linear(64, 32)\r\n",
    "        self.efc5 = nn.Linear(32, 16)\r\n",
    "        \r\n",
    "        # decoder\r\n",
    "        self.dec1 = nn.Linear(16, 32)\r\n",
    "        self.dec2 = nn.Linear(32, 64)\r\n",
    "        self.dec3 = nn.Linear(64, 128)\r\n",
    "        self.dec4 = nn.Linear(128, 256)\r\n",
    "        self.dec5 = nn.Linear(256, 784)\r\n",
    "        \r\n",
    "    def forward(self, x):\r\n",
    "        # Encoder Module\r\n",
    "        x = F.relu(self.efc1(x))\r\n",
    "        x = F.relu(self.efc2(x))\r\n",
    "        x = F.relu(self.efc3(x))\r\n",
    "        x = F.relu(self.efc4(x))\r\n",
    "        x = F.relu(self.efc5(x))\r\n",
    "        \r\n",
    "        # Decoder Module\r\n",
    "        x = F.relu(self.dec1(x))\r\n",
    "        x = F.relu(self.dec2(x))\r\n",
    "        x = F.relu(self.dec3(x))\r\n",
    "        x = F.relu(self.dec4(x))\r\n",
    "        x = F.relu(self.dec5(x))\r\n",
    "        return x\r\n",
    "        "
   ],
   "outputs": [],
   "metadata": {}
  },
  {
   "cell_type": "code",
   "execution_count": 6,
   "source": [
    "net = AutoEncoder()\r\n",
    "net.to(get_device())     "
   ],
   "outputs": [
    {
     "output_type": "execute_result",
     "data": {
      "text/plain": [
       "AutoEncoder(\n",
       "  (efc1): Linear(in_features=784, out_features=256, bias=True)\n",
       "  (efc2): Linear(in_features=256, out_features=128, bias=True)\n",
       "  (efc3): Linear(in_features=128, out_features=64, bias=True)\n",
       "  (efc4): Linear(in_features=64, out_features=32, bias=True)\n",
       "  (efc5): Linear(in_features=32, out_features=16, bias=True)\n",
       "  (dec1): Linear(in_features=16, out_features=32, bias=True)\n",
       "  (dec2): Linear(in_features=32, out_features=64, bias=True)\n",
       "  (dec3): Linear(in_features=64, out_features=128, bias=True)\n",
       "  (dec4): Linear(in_features=128, out_features=256, bias=True)\n",
       "  (dec5): Linear(in_features=256, out_features=784, bias=True)\n",
       ")"
      ]
     },
     "metadata": {},
     "execution_count": 6
    }
   ],
   "metadata": {}
  },
  {
   "cell_type": "code",
   "execution_count": 7,
   "source": [
    "summary(net, (784, ))"
   ],
   "outputs": [
    {
     "output_type": "stream",
     "name": "stdout",
     "text": [
      "==========================================================================================\n",
      "Layer (type:depth-idx)                   Output Shape              Param #\n",
      "==========================================================================================\n",
      "├─Linear: 1-1                            [-1, 256]                 200,960\n",
      "├─Linear: 1-2                            [-1, 128]                 32,896\n",
      "├─Linear: 1-3                            [-1, 64]                  8,256\n",
      "├─Linear: 1-4                            [-1, 32]                  2,080\n",
      "├─Linear: 1-5                            [-1, 16]                  528\n",
      "├─Linear: 1-6                            [-1, 32]                  544\n",
      "├─Linear: 1-7                            [-1, 64]                  2,112\n",
      "├─Linear: 1-8                            [-1, 128]                 8,320\n",
      "├─Linear: 1-9                            [-1, 256]                 33,024\n",
      "├─Linear: 1-10                           [-1, 784]                 201,488\n",
      "==========================================================================================\n",
      "Total params: 490,208\n",
      "Trainable params: 490,208\n",
      "Non-trainable params: 0\n",
      "Total mult-adds (M): 0.49\n",
      "==========================================================================================\n",
      "Input size (MB): 0.00\n",
      "Forward/backward pass size (MB): 0.01\n",
      "Params size (MB): 1.87\n",
      "Estimated Total Size (MB): 1.89\n",
      "==========================================================================================\n"
     ]
    },
    {
     "output_type": "execute_result",
     "data": {
      "text/plain": [
       "==========================================================================================\n",
       "Layer (type:depth-idx)                   Output Shape              Param #\n",
       "==========================================================================================\n",
       "├─Linear: 1-1                            [-1, 256]                 200,960\n",
       "├─Linear: 1-2                            [-1, 128]                 32,896\n",
       "├─Linear: 1-3                            [-1, 64]                  8,256\n",
       "├─Linear: 1-4                            [-1, 32]                  2,080\n",
       "├─Linear: 1-5                            [-1, 16]                  528\n",
       "├─Linear: 1-6                            [-1, 32]                  544\n",
       "├─Linear: 1-7                            [-1, 64]                  2,112\n",
       "├─Linear: 1-8                            [-1, 128]                 8,320\n",
       "├─Linear: 1-9                            [-1, 256]                 33,024\n",
       "├─Linear: 1-10                           [-1, 784]                 201,488\n",
       "==========================================================================================\n",
       "Total params: 490,208\n",
       "Trainable params: 490,208\n",
       "Non-trainable params: 0\n",
       "Total mult-adds (M): 0.49\n",
       "==========================================================================================\n",
       "Input size (MB): 0.00\n",
       "Forward/backward pass size (MB): 0.01\n",
       "Params size (MB): 1.87\n",
       "Estimated Total Size (MB): 1.89\n",
       "=========================================================================================="
      ]
     },
     "metadata": {},
     "execution_count": 7
    }
   ],
   "metadata": {}
  },
  {
   "cell_type": "markdown",
   "source": [
    "### **6. Loss function and Optimizer**"
   ],
   "metadata": {}
  },
  {
   "cell_type": "code",
   "execution_count": 8,
   "source": [
    "# Loss function\r\n",
    "loss_fn = nn.MSELoss()\r\n",
    "\r\n",
    "# Optimizer function\r\n",
    "optimizer = optim.Adam(net.parameters(), lr=LEARNING_RATE)"
   ],
   "outputs": [],
   "metadata": {}
  },
  {
   "cell_type": "markdown",
   "source": [
    "### **7.Train and Test Function**"
   ],
   "metadata": {}
  },
  {
   "cell_type": "code",
   "execution_count": 9,
   "source": [
    "def train(net, trainloader, NUM_EPOCHS):\r\n",
    "    train_loss = []\r\n",
    "    s_t = time.time()\r\n",
    "    for epoch in range(NUM_EPOCHS):\r\n",
    "        start = time.time()\r\n",
    "        running_loss = 0.0\r\n",
    "        for data in trainloader:\r\n",
    "            img, _ = data\r\n",
    "            img = img.to(device)\r\n",
    "            img = img.view(img.size(0), -1)\r\n",
    "            optimizer.zero_grad()\r\n",
    "            outputs = net(img)\r\n",
    "            loss = loss_fn(outputs, img)\r\n",
    "            loss.backward()\r\n",
    "            optimizer.step()\r\n",
    "            running_loss += loss.item()\r\n",
    "        \r\n",
    "        loss = running_loss / len(trainloader)\r\n",
    "        train_loss.append(loss)\r\n",
    "        end = time.time()\r\n",
    "        total_time = end - start\r\n",
    "        print('Epoch {} of {}, ETA : {:.2f} Seconds, Train Loss: {:.3f}'.format(\r\n",
    "                epoch+1, NUM_EPOCHS, total_time, loss))\r\n",
    "        if epoch % 5 == 0:\r\n",
    "            save_decoded_image(outputs.cpu().data, epoch)\r\n",
    "    e_t = time.time()\r\n",
    "    print(\"Total time : {:.2f} Minutes\".format((e_t - s_t)/60))\r\n",
    "    return train_loss\r\n",
    "\r\n",
    "def test_image_reconstruction(net, testloader):\r\n",
    "     for batch in testloader:\r\n",
    "        img, _ = batch\r\n",
    "        img = img.to(device)\r\n",
    "        img = img.view(img.size(0), -1)\r\n",
    "        outputs = net(img)\r\n",
    "        outputs = outputs.view(outputs.size(0), 1, 28, 28).cpu().data\r\n",
    "        save_image(outputs, 'fashionmnist_reconstruction.png')\r\n",
    "        break"
   ],
   "outputs": [],
   "metadata": {}
  },
  {
   "cell_type": "markdown",
   "source": [
    "### **8.Train AutoEncoder**"
   ],
   "metadata": {}
  },
  {
   "cell_type": "code",
   "execution_count": 10,
   "source": [
    "# get the computation device\r\n",
    "device = get_device()\r\n",
    "print(device)\r\n",
    "\r\n",
    "# load the neural network onto the device\r\n",
    "net.to(device)\r\n",
    "make_dir()\r\n",
    "\r\n",
    "# train the network\r\n",
    "train_loss = train(net, trainLoader, NUM_EPOCHS)\r\n",
    "plt.figure()\r\n",
    "plt.plot(train_loss)\r\n",
    "plt.title('Train Loss')\r\n",
    "plt.xlabel('Epochs')\r\n",
    "plt.ylabel('Loss')\r\n",
    "plt.savefig('deep_ae_fashionmnist_loss.png')\r\n",
    "\r\n",
    "# test the network\r\n",
    "test_image_reconstruction(net, testLoader)"
   ],
   "outputs": [
    {
     "output_type": "stream",
     "name": "stdout",
     "text": [
      "cuda:0\n",
      "Epoch 1 of 50, ETA : 9.83 Seconds, Train Loss: 0.074\n",
      "Epoch 2 of 50, ETA : 10.03 Seconds, Train Loss: 0.041\n",
      "Epoch 3 of 50, ETA : 9.62 Seconds, Train Loss: 0.033\n",
      "Epoch 4 of 50, ETA : 9.69 Seconds, Train Loss: 0.029\n",
      "Epoch 5 of 50, ETA : 9.77 Seconds, Train Loss: 0.028\n",
      "Epoch 6 of 50, ETA : 9.75 Seconds, Train Loss: 0.026\n",
      "Epoch 7 of 50, ETA : 9.82 Seconds, Train Loss: 0.025\n",
      "Epoch 8 of 50, ETA : 10.04 Seconds, Train Loss: 0.024\n",
      "Epoch 9 of 50, ETA : 9.74 Seconds, Train Loss: 0.023\n",
      "Epoch 10 of 50, ETA : 9.72 Seconds, Train Loss: 0.023\n",
      "Epoch 11 of 50, ETA : 9.75 Seconds, Train Loss: 0.022\n",
      "Epoch 12 of 50, ETA : 9.75 Seconds, Train Loss: 0.022\n",
      "Epoch 13 of 50, ETA : 9.71 Seconds, Train Loss: 0.021\n",
      "Epoch 14 of 50, ETA : 12.85 Seconds, Train Loss: 0.021\n",
      "Epoch 15 of 50, ETA : 8673.00 Seconds, Train Loss: 0.021\n",
      "Epoch 16 of 50, ETA : 29.05 Seconds, Train Loss: 0.021\n",
      "Epoch 17 of 50, ETA : 27.66 Seconds, Train Loss: 0.020\n",
      "Epoch 18 of 50, ETA : 19.47 Seconds, Train Loss: 0.020\n",
      "Epoch 19 of 50, ETA : 18.94 Seconds, Train Loss: 0.020\n",
      "Epoch 20 of 50, ETA : 19.75 Seconds, Train Loss: 0.020\n",
      "Epoch 21 of 50, ETA : 19.08 Seconds, Train Loss: 0.020\n",
      "Epoch 22 of 50, ETA : 18.73 Seconds, Train Loss: 0.020\n",
      "Epoch 23 of 50, ETA : 19.20 Seconds, Train Loss: 0.020\n",
      "Epoch 24 of 50, ETA : 19.51 Seconds, Train Loss: 0.020\n",
      "Epoch 25 of 50, ETA : 19.58 Seconds, Train Loss: 0.019\n",
      "Epoch 26 of 50, ETA : 19.57 Seconds, Train Loss: 0.019\n",
      "Epoch 27 of 50, ETA : 19.55 Seconds, Train Loss: 0.019\n",
      "Epoch 28 of 50, ETA : 19.52 Seconds, Train Loss: 0.019\n",
      "Epoch 29 of 50, ETA : 19.40 Seconds, Train Loss: 0.019\n",
      "Epoch 30 of 50, ETA : 19.40 Seconds, Train Loss: 0.019\n",
      "Epoch 31 of 50, ETA : 19.14 Seconds, Train Loss: 0.019\n",
      "Epoch 32 of 50, ETA : 18.91 Seconds, Train Loss: 0.019\n",
      "Epoch 33 of 50, ETA : 19.16 Seconds, Train Loss: 0.019\n",
      "Epoch 34 of 50, ETA : 20.39 Seconds, Train Loss: 0.019\n",
      "Epoch 35 of 50, ETA : 17.94 Seconds, Train Loss: 0.018\n",
      "Epoch 36 of 50, ETA : 17.08 Seconds, Train Loss: 0.018\n",
      "Epoch 37 of 50, ETA : 16.67 Seconds, Train Loss: 0.018\n",
      "Epoch 38 of 50, ETA : 16.87 Seconds, Train Loss: 0.018\n",
      "Epoch 39 of 50, ETA : 20.34 Seconds, Train Loss: 0.018\n",
      "Epoch 40 of 50, ETA : 16.76 Seconds, Train Loss: 0.018\n",
      "Epoch 41 of 50, ETA : 17.96 Seconds, Train Loss: 0.018\n",
      "Epoch 42 of 50, ETA : 16.54 Seconds, Train Loss: 0.018\n",
      "Epoch 43 of 50, ETA : 16.91 Seconds, Train Loss: 0.017\n",
      "Epoch 44 of 50, ETA : 16.76 Seconds, Train Loss: 0.017\n",
      "Epoch 45 of 50, ETA : 17.36 Seconds, Train Loss: 0.017\n",
      "Epoch 46 of 50, ETA : 16.67 Seconds, Train Loss: 0.017\n",
      "Epoch 47 of 50, ETA : 16.95 Seconds, Train Loss: 0.017\n",
      "Epoch 48 of 50, ETA : 16.65 Seconds, Train Loss: 0.017\n",
      "Epoch 49 of 50, ETA : 17.32 Seconds, Train Loss: 0.017\n",
      "Epoch 50 of 50, ETA : 15.09 Seconds, Train Loss: 0.017\n",
      "Total time : 157.89 Minutes\n"
     ]
    },
    {
     "output_type": "display_data",
     "data": {
      "image/png": "[encoded data removed]",
      "text/plain": [
       "<Figure size 432x288 with 1 Axes>"
      ]
     },
     "metadata": {
      "needs_background": "light"
     }
    }
   ],
   "metadata": {}
  }
 ],
 "metadata": {
  "orig_nbformat": 4,
  "language_info": {
   "name": "python",
   "version": "3.8.0",
   "mimetype": "text/x-python",
   "codemirror_mode": {
    "name": "ipython",
    "version": 3
   },
   "pygments_lexer": "ipython3",
   "nbconvert_exporter": "python",
   "file_extension": ".py"
  },
  "kernelspec": {
   "name": "python3",
   "display_name": "Python 3.8.0 64-bit ('pytorch19': conda)"
  },
  "interpreter": {
   "hash": "884a8f81666a19c0851426c83cd6eaa7b212468ad852fb3caa21591c98d4369f"
  }
 },
 "nbformat": 4,
 "nbformat_minor": 2
}